{
 "cells": [
  {
   "cell_type": "markdown",
   "id": "37fc7ddd",
   "metadata": {},
   "source": [
    "# Weekly Payroll Data Analysis"
   ]
  },
  {
   "cell_type": "code",
   "execution_count": 2,
   "id": "5141faba",
   "metadata": {},
   "outputs": [],
   "source": [
    "# import pandas as pd \n",
    "import pandas as pd\n",
    "# import matplotlib pyplot as plt \n",
    "import matplotlib.pyplot as plt\n",
    "# import seaborn as sns\n",
    "import seaborn as sns"
   ]
  },
  {
   "cell_type": "code",
   "execution_count": null,
   "id": "51ecc87e",
   "metadata": {},
   "outputs": [],
   "source": [
    "# Weekly payroll dictionary\n",
    "weekly_payroll = {\n",
    "    \"1.\": {\"employee\": \"Linus Breeze\", \"Rate\": \"27.50\", \"Hours\": \"40.25\", \"Dependents\": \"4\"},\n",
    "    \"2.\": {\"employee\": \"Juan Santiago\", \"Rate\": \"18.75\", \"Hours\": \"56.00\", \"Dependents\": \"1\"},\n",
    "    \"3.\": {\"employee\": \"James Webb\", \"Rate\": \"28.35\", \"Hours\": \"38.00\", \"Dependents\": \"3\"},\n",
    "    \"4.\": {\"employee\": \"Kylie Sabol\", \"Rate\": \"21.50\", \"Hours\": \"46.50\", \"Dependents\": \"6\"},\n",
    "    \"5.\": {\"employee\": \"Amber Ali\", \"Rate\": \"19.35\", \"Hours\": \"17.00\", \"Dependents\": \"2\"},\n",
    "    \"6.\": {\"employee\": \"Kevin Goldstein\", \"Rate\": \"17.05\", \"Hours\": \"28.00\", \"Dependents\": \"5\"}\n",
    "}\n",
    "\n",
    "# New Employee information added to the dictionary\n",
    "weekly_payroll[\"7.\"] = {\"employee\": \"Lee Chang\",\n",
    "                        \"Rate\": \"17.05\", \"Hours\": \"28.00\", \"Dependents\": \"5\"}\n",
    "weekly_payroll[\"8.\"] = {\"employee\": \"Albert Fritz\",\n",
    "                        \"Rate\": \"28.35\", \"Hours\": \"38.75\", \"Dependents\": \"3\"}\n",
    "\n",
    "# One Employee removed from payroll\n",
    "weekly_payroll.pop(\"6.\")\n",
    "\n",
    "# Using get function to determine that employee deleted employee is no  longer in the payroll\n",
    "definition = weekly_payroll.get(\"6.\")\n",
    "if definition:\n",
    "    print(definition)\n",
    "else:\n",
    "    print(\"Key doesn't exist\")\n",
    "\n",
    "\n",
    "# wp = weekly payroll nested dictionary \n",
    "def extract_info(wp):  \n",
    "    \"\"\" Extract info from nested dictionary\n",
    "\n",
    "    Arg: \n",
    "        Weekly payroll as nested dictionary\n",
    "\n",
    "    Returns:\n",
    "        This function retuns list of Employee, Rate, Hours, Dependents\n",
    "    \"\"\"\n",
    "\n",
    "\n",
    "# Empty list for keys\n",
    "    employee = []\n",
    "    rate = []\n",
    "    hours = []\n",
    "    dependents = []\n",
    "\n",
    "# For loop nested dictionary\n",
    "    for i in wp:\n",
    "        employee.append(wp[i][\"employee\"])\n",
    "\n",
    "    for i in wp:\n",
    "        rate.append(float(wp[i][\"Rate\"]))\n",
    "\n",
    "    for i in wp:\n",
    "        hours.append(float(wp[i][\"Hours\"]))\n",
    "\n",
    "    for i in wp:\n",
    "        dependents.append(float(wp[i][\"Dependents\"]))\n",
    "    return employee, rate, hours, dependents\n",
    "\n",
    "\n",
    "# Total (Gross Pay)\n",
    "def total_gross_pay(rate, hours):\n",
    "    tgp = 0  # initial Total Gross pay\n",
    "    for i in range(len(rate)):\n",
    "        tgp = tgp + (rate[i] * hours[i])\n",
    "    tgp = round(tgp, 2)\n",
    "    return tgp\n",
    "\n",
    "\n",
    "# Individual Gross Pay with overtime (1.5 per hour for employee with 40 and more hours per week)\n",
    "def ind_gross_pay(rate, hours):\n",
    "    igp = []\n",
    "    for i in range(len(rate)):\n",
    "        if hours[i] <= 40:\n",
    "            igp.append(round(rate[i] * hours[i], 2))\n",
    "        else:\n",
    "            igp.append(round((rate[i] * hours[i]) +\n",
    "                       (.5 * rate[i] * (hours[i] - 40)), 2))\n",
    "\n",
    "    return igp\n",
    "\n",
    "\n",
    "# State Tax = .06\n",
    "def state_tax(igp):\n",
    "    s_tax = []\n",
    "    for items in igp:\n",
    "        s_tax.append(round(items * .06, 2))\n",
    "    return s_tax\n",
    "\n",
    "\n",
    "# Federal Tax: flat_rate = .22\n",
    "# Withholding_allowance_per_dependent = 38.46\n",
    "def federal_tax(igp, dep):\n",
    "    federal_tax = []\n",
    "    for i in range(len(igp)):\n",
    "        federal_tax.append(round(.22*(igp[i]-(dep[i]*38.46)), 2))\n",
    "    return federal_tax\n",
    "\n",
    "\n",
    "# Net Pay with Social Security and Medicare deductions\n",
    "def net_pay(igp, federal_tax, state_tax, social_security, medicare):\n",
    "    net_pay = []\n",
    "    for i in range(len(igp)):\n",
    "        net_pay.append(round(\n",
    "            igp[i]-(social_security[i] + medicare[i] + federal_tax[i] + state_tax[i]), 2))\n",
    "    return net_pay\n",
    "\n",
    "\n",
    "\n",
    "# Social Security deduction  (with maximum amount applied)\n",
    "def social_security_limited(ind_gross_pay, YTD_Social_Security):\n",
    "    global Social_Security_Tax\n",
    "    global Social_Security_Limit\n",
    "    social_security = []\n",
    "    for i in range(len(ind_gross_pay)):\n",
    "        if (YTD_Social_Security[i] + (Social_Security_Tax * ind_gross_pay[i])) >= Social_Security_Limit:\n",
    "            social_security.append(\n",
    "                round(Social_Security_Limit - YTD_Social_Security[i], 2))\n",
    "        else:\n",
    "            social_security.append(\n",
    "                round(Social_Security_Tax * ind_gross_pay[i], 2))\n",
    "\n",
    "    return social_security\n",
    "\n",
    "\n",
    "# Medicare deduction\n",
    "def medicare(igp):\n",
    "    global Medicare_tax\n",
    "    medicare = []\n",
    "    for i in range(len(igp)):\n",
    "        medicare.append(round(igp[i] * Medicare_tax, 2))\n",
    "    return medicare\n"
   ]
  },
  {
   "cell_type": "code",
   "execution_count": 4,
   "id": "278ec27b",
   "metadata": {},
   "outputs": [],
   "source": [
    "# YTD Social Security\n",
    "YTD_Social_Security = [4974.00, 5540.20, 4254.00, 5553.90, 3447.60]\n",
    "\n",
    "# New Employee YTD Social Security (added)\n",
    "YTD_Social_Security.append(4825.50)\n",
    "YTD_Social_Security.append(5553.90)\n",
    "\n",
    "# Maximum Social Security\n",
    "Social_Security_Limit = 5553.90\n",
    "\n",
    "# My function\n",
    "def Maindata(wp):\n",
    "    Employee, Rate, Hours, Dependents = extract_info(wp)\n",
    "    Ind_Gross_Pay = ind_gross_pay(Rate, Hours)\n",
    "    State_Tax = state_tax(Ind_Gross_Pay)\n",
    "    Federal_Tax = federal_tax(Ind_Gross_Pay, Dependents)\n",
    "    Medicare = medicare(Ind_Gross_Pay)\n",
    "    Social_Security_Limited = social_security_limited(Ind_Gross_Pay, YTD_Social_Security)\n",
    "    Net_Pay = net_pay(Ind_Gross_Pay, Federal_Tax, State_Tax, Social_Security_Limited, Medicare)\n",
    "\n",
    "    Dependents = [int(items) for items in Dependents]\n",
    "\n",
    "    \n",
    "    Total_Rate = sum(Rate) #Total Rate\n",
    "    Total_Hours = sum(Hours) # Total Hours \n",
    "    Total_YTD_Social_Security = sum(YTD_Social_Security)  # Total YTD Social Security\n",
    "    Total_Ind_Gross_Pay = round(sum(Ind_Gross_Pay),2) # Total Ind. Gross Pay\n",
    "    Total_Social_Security = round(sum(Social_Security_Limited),2) # Total Social Security\n",
    "    Total_Medicare = sum(Medicare)# Total Medicare \n",
    "    Total_Federal_Tax = sum(Federal_Tax) # Total Federal tax\n",
    "    Total_State_Tax = sum(State_Tax) # Total State Tax \n",
    "    Total_Net_Pay = sum(Net_Pay) # Total Net Pay\n",
    "\n",
    "    Totals = [Total_Rate, Total_Hours, Total_YTD_Social_Security, Total_Ind_Gross_Pay, Total_Social_Security, \n",
    "            Total_Medicare, Total_Federal_Tax, Total_State_Tax, Total_Net_Pay]\n",
    "    \n",
    "    # Converted the list into the DataFrame\n",
    "    df = pd.DataFrame([Rate, Hours, YTD_Social_Security, Ind_Gross_Pay, Social_Security_Limited, Medicare, Federal_Tax, State_Tax, Net_Pay],\n",
    "                  index=['Rate', 'Hours', 'YTD Social Security', 'Ind Gross Pay',\n",
    "                         'Social Security', 'Medicare', 'Federal Tax', 'State Tax', 'Net Pay'],\n",
    "                  columns=Employee) \n",
    "    df = df.T\n",
    "    # Totals list converted to DataFrame\n",
    "    dfTotals = pd.DataFrame([Totals], index= ['Totals'], columns=['Rate', 'Hours', 'YTD Social Security', 'Ind Gross Pay',\n",
    "                         'Social Security', 'Medicare', 'Federal Tax', 'State Tax', 'Net Pay'])\n",
    "    return df, dfTotals\n"
   ]
  },
  {
   "cell_type": "code",
   "execution_count": null,
   "id": "e119a7de",
   "metadata": {},
   "outputs": [],
   "source": [
    "# Reading csv and setting it = to payroll tax data (projected social security tax and medicare tax each year)  \n",
    "payroll_tax_data = pd.read_csv('payroll_tax_data.csv')\n",
    "rows = payroll_tax_data.shape[0] # counts rows ignoring header\n",
    "\n",
    "#for case 1\n",
    "Social_Security_Tax = payroll_tax_data.at[0, \"Social_Security_tax\"] \n",
    "Medicare_tax = payroll_tax_data.at[0, \"Medicare_tax\"]\n",
    "df2021, df2021totals = Maindata(weekly_payroll) # took info from csv file for each year and used it in maindata function \n",
    "\n",
    "#for case 2\n",
    "Social_Security_Tax = payroll_tax_data.at[1, \"Social_Security_tax\"] \n",
    "Medicare_tax = payroll_tax_data.at[1, \"Medicare_tax\"]\n",
    "df2022, df2022totals = Maindata(weekly_payroll) \n",
    "\n",
    "#for case 3\n",
    "Social_Security_Tax = payroll_tax_data.at[2, \"Social_Security_tax\"] \n",
    "Medicare_tax = payroll_tax_data.at[2, \"Medicare_tax\"]\n",
    "df2023, df2023totals = Maindata(weekly_payroll)  \n",
    "\n",
    "\n",
    "payroll_tax_data.head() \n"
   ]
  },
  {
   "cell_type": "code",
   "execution_count": null,
   "id": "f1b71b3a",
   "metadata": {},
   "outputs": [],
   "source": [
    "# The DataFrame displays combined results of each column and its sum of  totals\n",
    "\n",
    "dfcase1 = pd.concat([df2021, df2021totals])\n",
    "\n",
    "dfcase2 = pd.concat([df2022, df2022totals])\n",
    "\n",
    "dfcase3 = pd.concat([df2023, df2023totals])\n",
    "\n",
    "dfcase1"
   ]
  },
  {
   "cell_type": "code",
   "execution_count": null,
   "id": "596b0b51",
   "metadata": {},
   "outputs": [],
   "source": [
    "# Weekly Payroll Data for each employee is plotted in the line graph format   \n",
    "df2021new = df2021.drop(\"YTD Social Security\", axis = 'columns')\n",
    "x = df2021new.plot(kind='line',rot = 15,title = 'Weekly Payroll', figsize=(11,8))\n",
    "x.legend(bbox_to_anchor=(1.0,1.0))\n",
    "x.plot()\n"
   ]
  },
  {
   "cell_type": "code",
   "execution_count": null,
   "id": "e08cf99e",
   "metadata": {},
   "outputs": [],
   "source": [
    "# Summary of dataset\n",
    "df2021.info()"
   ]
  },
  {
   "cell_type": "code",
   "execution_count": null,
   "id": "2b508310",
   "metadata": {},
   "outputs": [],
   "source": [
    "# Dimensions of dataset(7 rows and 9 columns)  \n",
    "df2021.shape"
   ]
  },
  {
   "cell_type": "code",
   "execution_count": null,
   "id": "68a1e4d8",
   "metadata": {},
   "outputs": [],
   "source": [
    "# Check for missing values\n",
    "df2021.isnull().sum()"
   ]
  },
  {
   "cell_type": "code",
   "execution_count": null,
   "id": "c2f1ea0e",
   "metadata": {},
   "outputs": [],
   "source": [
    "# astype() function converts item/s to (float, integer, object or string) all of the items below are integers.  \n",
    "# Original file if a float the current display is an int \n",
    "df2021.astype(int)"
   ]
  },
  {
   "cell_type": "code",
   "execution_count": null,
   "id": "c061404c",
   "metadata": {},
   "outputs": [],
   "source": [
    "# All info. of a single employee\n",
    "df2021.loc[\"Linus Breeze\"]"
   ]
  },
  {
   "cell_type": "code",
   "execution_count": null,
   "id": "00b3a827",
   "metadata": {},
   "outputs": [],
   "source": [
    "# Single value for row/columns par\n",
    "df2021.iloc[5:6, 1:2]"
   ]
  },
  {
   "cell_type": "code",
   "execution_count": null,
   "id": "bd5dc73f",
   "metadata": {},
   "outputs": [],
   "source": [
    "# Employee with overtime\n",
    "df2021.loc[df2021[\"Hours\"] > 40]"
   ]
  },
  {
   "cell_type": "code",
   "execution_count": null,
   "id": "c6e7380d",
   "metadata": {},
   "outputs": [],
   "source": [
    "# Employee who reached Social Security Limit for a year\n",
    "df2021.loc[df2021[\"YTD Social Security\"] >= 5553.90]"
   ]
  },
  {
   "cell_type": "code",
   "execution_count": null,
   "id": "3a5ec8e9",
   "metadata": {},
   "outputs": [],
   "source": [
    "# Histogram for YTD Social Security\n",
    "hist = sns.histplot(df2021['YTD Social Security'],kde =True)\n",
    "hist.set_title(\"Histogram of YTD Social Security\")\n",
    "hist.set_xlabel(' YTD Social Security')\n",
    "hist.set_xlim([3000,6000])\n"
   ]
  },
  {
   "cell_type": "code",
   "execution_count": null,
   "id": "d0373da9",
   "metadata": {},
   "outputs": [],
   "source": [
    "# Histogram for YTD Social Security is skewd to the left away from mean\n",
    "df2021['YTD Social Security'].skew()"
   ]
  },
  {
   "cell_type": "code",
   "execution_count": null,
   "id": "753ab647",
   "metadata": {},
   "outputs": [],
   "source": [
    "# Table case 1 Year 2021 (Social Security tax 0.062 and Medicare Tax 0.0145)\n",
    "dfcase1.iloc[ :, [2, 4,5]]"
   ]
  },
  {
   "cell_type": "code",
   "execution_count": null,
   "id": "52d523d3",
   "metadata": {},
   "outputs": [],
   "source": [
    "#Table case 2 Year 2022( Social Security tax 0.080 and Medicare Tax 0.0275) assumption\n",
    "dfcase2.iloc[ :, [2, 4,5]]"
   ]
  },
  {
   "cell_type": "code",
   "execution_count": null,
   "id": "f42e4230",
   "metadata": {},
   "outputs": [],
   "source": [
    "#Table case 3 Year 2023( Social Security tax 0.105 and Medicare Tax 0.0225) assumption\n",
    "dfcase3.iloc[ :, [2, 4,5]]"
   ]
  },
  {
   "cell_type": "code",
   "execution_count": null,
   "id": "9e01c3da",
   "metadata": {},
   "outputs": [],
   "source": [
    "# Method 1 \n",
    "# Summary statistics about data\n",
    "# The describe() function gives us (numerical data) for count, mean, standard deviation(std), minimum, Q1(25%), \n",
    "# median(50%), Q3(75%), IQR(Q3 - Q1) and maximum values. \n",
    "df2021.describe()"
   ]
  },
  {
   "cell_type": "code",
   "execution_count": null,
   "id": "a2694183",
   "metadata": {},
   "outputs": [],
   "source": [
    "# METHOD 2 (Extracting Stastistical Data Manually)\n",
    "# CENTRALITY MEASURES (mean, median, & mode)\n",
    "df2021.mean() # Mean (average value that is equal to the ration of sum of values in a data set)\n",
    "df2021.median() # Median (the central value of given set of values when arranged in an order) \n",
    "df2021.mode() # Mode (the most repetitive value of a given set of values has a high frequency or appears more frequently)\n",
    "              # Nan (illustrates that computer cannot represent a value for mode)              "
   ]
  },
  {
   "cell_type": "code",
   "execution_count": null,
   "id": "ea7d8b3e",
   "metadata": {},
   "outputs": [],
   "source": [
    "# DISPERSION MEASURES (minimum and maximum values, range, variance, standard-deviation, Q1, Q2, Q3, & IQR)\n",
    "df2021.min() # Minimum\n",
    "df2021.max() # Maximum\n",
    "df2021.max() - df2021.min() # Range (Measures the difference between the minimum and maximum value in a dataset)\n",
    "df2021.var() # Variance (Measure of how data points differ from the mean) \n",
    "df2021.std() # Standard Deviation (Measures the typical deviation of individual values from the mean value in a dataset)\n",
    "\n",
    "Q1 = df2021.quantile(0.25) # 25 percentile (Q1)\n",
    "Q1\n",
    "\n",
    "Q2 = df2021.quantile(0.5) # 50 percentile (Q2) or # Median\n",
    "Q2\n",
    "\n",
    "Q3 = df2021.quantile(0.75) # 75 percentile (Q3)\n",
    "Q3\n",
    "\n",
    "IQR = Q3 - Q1 # Interquartile Range(IQR) (The difference between the first quartile (Q1) and the third quartile (Q3) of the dataset)\n",
    "IQR\n",
    "\n"
   ]
  },
  {
   "cell_type": "code",
   "execution_count": null,
   "metadata": {},
   "outputs": [],
   "source": [
    "# Box-Whisker plot   # plt.bar(x,y)\n",
    "font = {'family' : 'normal', \n",
    "        'color' : 'k',\n",
    "        'weight' : 'bold',\n",
    "        'size'   : 22}       \n",
    "\n",
    "font2 = {'family' : 'normal', \n",
    "        'color' : 'k',\n",
    "        'weight' : 'bold',\n",
    "        'size'   : 30}      \n",
    "\n",
    "plt = df2021.boxplot(rot=70, color= 'c', figsize=(8,4))\n",
    "plt.set_title('Box-Whisker Plot', fontdict= font2)\n",
    "plt.set_xlabel('Info', fontdict= font)\n",
    "plt.set_ylabel('Quantity', fontdict= font)\n",
    "# plt.spines['left'].set_color('black')\n",
    "plt.grid(axis='x')\n"
   ]
  }
 ],
 "metadata": {
  "kernelspec": {
   "display_name": "Python 3 (ipykernel)",
   "language": "python",
   "name": "python3"
  },
  "language_info": {
   "codemirror_mode": {
    "name": "ipython",
    "version": 3
   },
   "file_extension": ".py",
   "mimetype": "text/x-python",
   "name": "python",
   "nbconvert_exporter": "python",
   "pygments_lexer": "ipython3",
   "version": "3.9.7"
  }
 },
 "nbformat": 4,
 "nbformat_minor": 5
}
