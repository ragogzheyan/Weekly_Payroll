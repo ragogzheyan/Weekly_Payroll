{
 "cells": [
  {
   "cell_type": "markdown",
   "id": "37fc7ddd",
   "metadata": {},
   "source": [
    "# Weekly Payroll Data Analysis"
   ]
  },
  {
   "cell_type": "code",
   "execution_count": 1,
   "id": "5141faba",
   "metadata": {},
   "outputs": [],
   "source": [
    "# importing pandas as pd (DataFrame) read CSV(see snap) head()(number of rows)\n",
    "import pandas as pd\n",
    "# importing numpy as np (arithmetic operators + - * /) W3School\n",
    "import numpy as np\n",
    "# import matplotlib pyplot as plt (use magic function % 0r %%)\n",
    "import matplotlib.pyplot as plt\n",
    "import seaborn as sns\n",
    "import math\n",
    "import statistics as st\n",
    "import os\n"
   ]
  },
  {
   "cell_type": "code",
   "execution_count": 2,
   "id": "51ecc87e",
   "metadata": {},
   "outputs": [
    {
     "name": "stdout",
     "output_type": "stream",
     "text": [
      "Key doesn't exist\n"
     ]
    }
   ],
   "source": [
    "weekly_payroll = {\n",
    "    \"1.\": {\"employee\": \"Linus Breeze\", \"Rate\": \"27.50\", \"Hours\": \"40.25\", \"Dependents\": \"4\"},\n",
    "    \"2.\": {\"employee\": \"Juan Santiago\", \"Rate\": \"18.75\", \"Hours\": \"56.00\", \"Dependents\": \"1\"},\n",
    "    \"3.\": {\"employee\": \"James Webb\", \"Rate\": \"28.35\", \"Hours\": \"38.00\", \"Dependents\": \"3\"},\n",
    "    \"4.\": {\"employee\": \"Kylie Sabol\", \"Rate\": \"21.50\", \"Hours\": \"46.50\", \"Dependents\": \"6\"},\n",
    "    \"5.\": {\"employee\": \"Amber Ali\", \"Rate\": \"19.35\", \"Hours\": \"17.00\", \"Dependents\": \"2\"},\n",
    "    \"6.\": {\"employee\": \"Kevin Goldstein\", \"Rate\": \"17.05\", \"Hours\": \"28.00\", \"Dependents\": \"5\"}\n",
    "}\n",
    "\n",
    "# Add New Employee\n",
    "weekly_payroll[\"7.\"] = {\"employee\": \"Lee Chang\",\n",
    "                        \"Rate\": \"17.05\", \"Hours\": \"28.00\", \"Dependents\": \"5\"}\n",
    "weekly_payroll[\"8.\"] = {\"employee\": \"Albert Fritz\",\n",
    "                        \"Rate\": \"28.35\", \"Hours\": \"38.75\", \"Dependents\": \"3\"}\n",
    "\n",
    "# Remove Employee\n",
    "weekly_payroll.pop(\"6.\")\n",
    "\n",
    "# Using get: get a value that might not be there\n",
    "definition = weekly_payroll.get(\"6.\")\n",
    "if definition:\n",
    "    print(definition)\n",
    "else:\n",
    "    print(\"Key doesn't exist\")\n",
    "\n",
    "\n",
    "# KEYWORD, FUNCTION NAME, 0 TO MANY PARAMETER(S)\n",
    "#Docstrings\n",
    "def extract_info(wp):  # wp = weekly payroll nested dictionary #Doc strings\n",
    "    \"\"\" Extract info from nested dictionary\n",
    "\n",
    "    Arg: \n",
    "        Weekly payroll as nested dictionary\n",
    "\n",
    "    Returns:\n",
    "        This function retuns list of Employee, Rate, Hours, Dependents\n",
    "    \"\"\"\n",
    "\n",
    "# Empty list for key\n",
    "    employee = []\n",
    "    rate = []\n",
    "    hours = []\n",
    "    dependents = []\n",
    "\n",
    "# For loop nested dictionary\n",
    "    for i in wp:\n",
    "        employee.append(wp[i][\"employee\"])\n",
    "\n",
    "    for i in wp:\n",
    "        rate.append(float(wp[i][\"Rate\"]))\n",
    "\n",
    "    for i in wp:\n",
    "        hours.append(float(wp[i][\"Hours\"]))\n",
    "\n",
    "    for i in wp:\n",
    "        dependents.append(float(wp[i][\"Dependents\"]))\n",
    "    return employee, rate, hours, dependents\n",
    "\n",
    "\n",
    "# Total (Gross Pay)\n",
    "def total_gross_pay(rate, hours):\n",
    "    tgp = 0  # initial Total Gross pay\n",
    "    for i in range(len(rate)):\n",
    "        tgp = tgp + (rate[i] * hours[i])\n",
    "    tgp = round(tgp, 2)\n",
    "    return tgp\n",
    "\n",
    "\n",
    "# (Individual Gross Pay with overtime) (new)\n",
    "def ind_gross_pay(rate, hours):\n",
    "    igp = []\n",
    "    for i in range(len(rate)):\n",
    "        if hours[i] <= 40:\n",
    "            igp.append(round(rate[i] * hours[i], 2))\n",
    "        else:\n",
    "            igp.append(round((rate[i] * hours[i]) +\n",
    "                       (.5 * rate[i] * (hours[i] - 40)), 2))\n",
    "\n",
    "    return igp\n",
    "\n",
    "\n",
    "# Calculate State Tax = .06  NEED TO CHANGE\n",
    "def state_tax(igp):\n",
    "    s_tax = []\n",
    "    for items in igp:\n",
    "        s_tax.append(round(items * .032, 2))\n",
    "    return s_tax\n",
    "\n",
    "\n",
    "# Federal Tax: flat_rate = [.22]\n",
    "# Withholding_allowance_per_dependent = [38.46] NEED TO CHANGE\n",
    "def federal_tax(igp, dep):\n",
    "    federal_tax = []\n",
    "    for i in range(len(igp)):\n",
    "        federal_tax.append(round(.20*(igp[i]-(dep[i]*38.46)), 2))\n",
    "    return federal_tax\n",
    "\n",
    "\n",
    "# Net Pay add Social Security and Medicare deductions (NEW)\n",
    "def net_pay(igp, federal_tax, state_tax, social_security, medicare):\n",
    "    net_pay = []\n",
    "    for i in range(len(igp)):\n",
    "        net_pay.append(round(\n",
    "            igp[i]-(social_security[i] + medicare[i] + federal_tax[i] + state_tax[i]), 2))\n",
    "    return net_pay\n",
    "\n",
    "\n",
    "\n",
    "# Social Security deduction  (with maximum amount applied)\n",
    "def social_security_limited(ind_gross_pay, YTD_Social_Security):\n",
    "    global Social_Security_Tax\n",
    "    global Social_Security_Limit\n",
    "    social_security = []\n",
    "    for i in range(len(ind_gross_pay)):\n",
    "        if (YTD_Social_Security[i] + (Social_Security_Tax * ind_gross_pay[i])) >= Social_Security_Limit:\n",
    "            social_security.append(\n",
    "                round(Social_Security_Limit - YTD_Social_Security[i], 2))\n",
    "        else:\n",
    "            social_security.append(\n",
    "                round(Social_Security_Tax * ind_gross_pay[i], 2))\n",
    "\n",
    "    return social_security\n",
    "\n",
    "\n",
    "# Medicare deduction (new)\n",
    "def medicare(igp):\n",
    "    global Medicare_tax\n",
    "    medicare = []\n",
    "    for i in range(len(igp)):\n",
    "        medicare.append(round(igp[i] * Medicare_tax, 2))\n",
    "    return medicare\n"
   ]
  },
  {
   "cell_type": "code",
   "execution_count": 3,
   "id": "278ec27b",
   "metadata": {},
   "outputs": [],
   "source": [
    "# overwriten by CSV file\n",
    "# YTD (new)\n",
    "YTD_Social_Security = [4974.00, 5540.20, 4254.00, 5553.90, 3447.60]\n",
    "\n",
    "# Add New Employee YTD\n",
    "YTD_Social_Security.append(4825.50)\n",
    "YTD_Social_Security.append(5553.90)\n",
    "\n",
    "\n",
    "# Tax rate .062 for social security \n",
    "Social_Security_Tax = .062\n",
    "# Tax rate .0145 for medicare \n",
    "Medicare_tax = .0145\n",
    "\n",
    "\n",
    "# Maximum Soc. Sec. \n",
    "Social_Security_Limit = 5553.90\n",
    "\n",
    "# my function\n",
    "def Maindata(wp):\n",
    "    Employee, Rate, Hours, Dependents = extract_info(wp)\n",
    "    Ind_Gross_Pay = ind_gross_pay(Rate, Hours)\n",
    "    State_Tax = state_tax(Ind_Gross_Pay)\n",
    "    Federal_Tax = federal_tax(Ind_Gross_Pay, Dependents)\n",
    "    Medicare = medicare(Ind_Gross_Pay)\n",
    "    Social_Security_Limited = social_security_limited(Ind_Gross_Pay, YTD_Social_Security)\n",
    "    Net_Pay = net_pay(Ind_Gross_Pay, Federal_Tax, State_Tax, Social_Security_Limited, Medicare)\n",
    "\n",
    "    Dependents = [int(items) for items in Dependents]\n",
    "\n",
    "    \n",
    "    Total_Rate = sum(Rate) #Total Rate\n",
    "    Total_Hours = sum(Hours) # Total Hours $264.50\n",
    "    Total_YTD_Social_Security = sum(YTD_Social_Security)  # Total YTD Soc. Sec.\n",
    "    Total_Ind_Gross_Pay = round(sum(Ind_Gross_Pay),2) # Total Ind. Gross Pay\n",
    "    Total_Social_Security = round(sum(Social_Security_Limited),2) # Total Social Security\n",
    "    Total_Medicare = sum(Medicare)# Total Medicare \n",
    "    Total_Federal_Tax = sum(Federal_Tax) # Total Federal tax\n",
    "    Total_State_Tax = sum(State_Tax) # Total State Tax \n",
    "    Total_Net_Pay = sum(Net_Pay) # Total Net Pay\n",
    "\n",
    "    Totals = [Total_Rate, Total_Hours, Total_YTD_Social_Security, Total_Ind_Gross_Pay, Total_Social_Security, \n",
    "            Total_Medicare, Total_Federal_Tax, Total_State_Tax, Total_Net_Pay]\n",
    "    \n",
    "    # List into DataFrame\n",
    "    # Dataset\n",
    "    df = pd.DataFrame([Rate, Hours, YTD_Social_Security, Ind_Gross_Pay, Social_Security_Limited, Medicare, Federal_Tax, State_Tax, Net_Pay],\n",
    "                  index=['Rate', 'Hours', 'YTD Social Security', 'Ind Gross Pay',\n",
    "                         'Social Security', 'Medicare', 'Federal Tax', 'State Tax', 'Net Pay'],\n",
    "                  columns=Employee) \n",
    "    df = df.T\n",
    "    df\n",
    "    return df, Totals\n",
    "\n",
    "\n"
   ]
  },
  {
   "cell_type": "code",
   "execution_count": 8,
   "id": "e119a7de",
   "metadata": {},
   "outputs": [],
   "source": [
    "#  \n",
    "payroll_tax_data = pd.read_csv('payroll_tax_data.csv')\n",
    "rows = payroll_tax_data.shape[0]\n",
    "\n",
    "for i in range(rows):\n",
    "    year =payroll_tax_data.at[i,\"Year\"]\n",
    "    Social_Security_Tax = payroll_tax_data.at[i, \"Social_Security_tax\"]\n",
    "    Medicare_tax = payroll_tax_data.at[i, \"Medicare_tax\"]\n",
    "    globals()[f'df{year}'], globals()[f'Totals{year}'] = Maindata(weekly_payroll)\n",
    "\n",
    "    df2021 = df2021\n",
    "    df2022 = df2022\n",
    "    df2023 = df2023  \n",
    "    Totals2021 = Totals2021"
   ]
  },
  {
   "cell_type": "code",
   "execution_count": 9,
   "id": "4a29753d",
   "metadata": {},
   "outputs": [
    {
     "data": {
      "text/html": [
       "<div>\n",
       "<style scoped>\n",
       "    .dataframe tbody tr th:only-of-type {\n",
       "        vertical-align: middle;\n",
       "    }\n",
       "\n",
       "    .dataframe tbody tr th {\n",
       "        vertical-align: top;\n",
       "    }\n",
       "\n",
       "    .dataframe thead th {\n",
       "        text-align: right;\n",
       "    }\n",
       "</style>\n",
       "<table border=\"1\" class=\"dataframe\">\n",
       "  <thead>\n",
       "    <tr style=\"text-align: right;\">\n",
       "      <th></th>\n",
       "      <th>Case</th>\n",
       "      <th>Year</th>\n",
       "      <th>Social_Security_tax</th>\n",
       "      <th>Medicare_tax</th>\n",
       "    </tr>\n",
       "  </thead>\n",
       "  <tbody>\n",
       "    <tr>\n",
       "      <th>0</th>\n",
       "      <td>1</td>\n",
       "      <td>2021</td>\n",
       "      <td>0.062</td>\n",
       "      <td>0.0145</td>\n",
       "    </tr>\n",
       "    <tr>\n",
       "      <th>1</th>\n",
       "      <td>2</td>\n",
       "      <td>2022</td>\n",
       "      <td>0.080</td>\n",
       "      <td>0.0275</td>\n",
       "    </tr>\n",
       "    <tr>\n",
       "      <th>2</th>\n",
       "      <td>3</td>\n",
       "      <td>2023</td>\n",
       "      <td>0.105</td>\n",
       "      <td>0.0225</td>\n",
       "    </tr>\n",
       "  </tbody>\n",
       "</table>\n",
       "</div>"
      ],
      "text/plain": [
       "   Case  Year  Social_Security_tax  Medicare_tax\n",
       "0     1  2021                0.062        0.0145\n",
       "1     2  2022                0.080        0.0275\n",
       "2     3  2023                0.105        0.0225"
      ]
     },
     "execution_count": 9,
     "metadata": {},
     "output_type": "execute_result"
    }
   ],
   "source": [
    "# import Dataset \n",
    "payroll_tax_data.head()"
   ]
  },
  {
   "cell_type": "code",
   "execution_count": 10,
   "id": "f1b71b3a",
   "metadata": {},
   "outputs": [
    {
     "data": {
      "text/html": [
       "<div>\n",
       "<style scoped>\n",
       "    .dataframe tbody tr th:only-of-type {\n",
       "        vertical-align: middle;\n",
       "    }\n",
       "\n",
       "    .dataframe tbody tr th {\n",
       "        vertical-align: top;\n",
       "    }\n",
       "\n",
       "    .dataframe thead th {\n",
       "        text-align: right;\n",
       "    }\n",
       "</style>\n",
       "<table border=\"1\" class=\"dataframe\">\n",
       "  <thead>\n",
       "    <tr style=\"text-align: right;\">\n",
       "      <th></th>\n",
       "      <th>Rate</th>\n",
       "      <th>Hours</th>\n",
       "      <th>YTD Social Security</th>\n",
       "      <th>Ind Gross Pay</th>\n",
       "      <th>Social Security</th>\n",
       "      <th>Medicare</th>\n",
       "      <th>Federal Tax</th>\n",
       "      <th>State Tax</th>\n",
       "      <th>Net Pay</th>\n",
       "    </tr>\n",
       "  </thead>\n",
       "  <tbody>\n",
       "    <tr>\n",
       "      <th>Linus Breeze</th>\n",
       "      <td>27.50</td>\n",
       "      <td>40.25</td>\n",
       "      <td>4974.0</td>\n",
       "      <td>1110.31</td>\n",
       "      <td>68.84</td>\n",
       "      <td>16.10</td>\n",
       "      <td>191.29</td>\n",
       "      <td>35.53</td>\n",
       "      <td>798.55</td>\n",
       "    </tr>\n",
       "    <tr>\n",
       "      <th>Juan Santiago</th>\n",
       "      <td>18.75</td>\n",
       "      <td>56.00</td>\n",
       "      <td>5540.2</td>\n",
       "      <td>1200.00</td>\n",
       "      <td>13.70</td>\n",
       "      <td>17.40</td>\n",
       "      <td>232.31</td>\n",
       "      <td>38.40</td>\n",
       "      <td>898.19</td>\n",
       "    </tr>\n",
       "    <tr>\n",
       "      <th>James Webb</th>\n",
       "      <td>28.35</td>\n",
       "      <td>38.00</td>\n",
       "      <td>4254.0</td>\n",
       "      <td>1077.30</td>\n",
       "      <td>66.79</td>\n",
       "      <td>15.62</td>\n",
       "      <td>192.38</td>\n",
       "      <td>34.47</td>\n",
       "      <td>768.04</td>\n",
       "    </tr>\n",
       "    <tr>\n",
       "      <th>Kylie Sabol</th>\n",
       "      <td>21.50</td>\n",
       "      <td>46.50</td>\n",
       "      <td>5553.9</td>\n",
       "      <td>1069.62</td>\n",
       "      <td>0.00</td>\n",
       "      <td>15.51</td>\n",
       "      <td>167.77</td>\n",
       "      <td>34.23</td>\n",
       "      <td>852.11</td>\n",
       "    </tr>\n",
       "    <tr>\n",
       "      <th>Amber Ali</th>\n",
       "      <td>19.35</td>\n",
       "      <td>17.00</td>\n",
       "      <td>3447.6</td>\n",
       "      <td>328.95</td>\n",
       "      <td>20.39</td>\n",
       "      <td>4.77</td>\n",
       "      <td>50.41</td>\n",
       "      <td>10.53</td>\n",
       "      <td>242.85</td>\n",
       "    </tr>\n",
       "    <tr>\n",
       "      <th>Lee Chang</th>\n",
       "      <td>17.05</td>\n",
       "      <td>28.00</td>\n",
       "      <td>4825.5</td>\n",
       "      <td>477.40</td>\n",
       "      <td>29.60</td>\n",
       "      <td>6.92</td>\n",
       "      <td>57.02</td>\n",
       "      <td>15.28</td>\n",
       "      <td>368.58</td>\n",
       "    </tr>\n",
       "    <tr>\n",
       "      <th>Albert Fritz</th>\n",
       "      <td>28.35</td>\n",
       "      <td>38.75</td>\n",
       "      <td>5553.9</td>\n",
       "      <td>1098.56</td>\n",
       "      <td>0.00</td>\n",
       "      <td>15.93</td>\n",
       "      <td>196.64</td>\n",
       "      <td>35.15</td>\n",
       "      <td>850.84</td>\n",
       "    </tr>\n",
       "    <tr>\n",
       "      <th>Totals</th>\n",
       "      <td>160.85</td>\n",
       "      <td>264.50</td>\n",
       "      <td>34149.1</td>\n",
       "      <td>6362.14</td>\n",
       "      <td>199.32</td>\n",
       "      <td>92.25</td>\n",
       "      <td>1087.82</td>\n",
       "      <td>203.59</td>\n",
       "      <td>4779.16</td>\n",
       "    </tr>\n",
       "  </tbody>\n",
       "</table>\n",
       "</div>"
      ],
      "text/plain": [
       "                 Rate   Hours  YTD Social Security  Ind Gross Pay  \\\n",
       "Linus Breeze    27.50   40.25               4974.0        1110.31   \n",
       "Juan Santiago   18.75   56.00               5540.2        1200.00   \n",
       "James Webb      28.35   38.00               4254.0        1077.30   \n",
       "Kylie Sabol     21.50   46.50               5553.9        1069.62   \n",
       "Amber Ali       19.35   17.00               3447.6         328.95   \n",
       "Lee Chang       17.05   28.00               4825.5         477.40   \n",
       "Albert Fritz    28.35   38.75               5553.9        1098.56   \n",
       "Totals         160.85  264.50              34149.1        6362.14   \n",
       "\n",
       "               Social Security  Medicare  Federal Tax  State Tax  Net Pay  \n",
       "Linus Breeze             68.84     16.10       191.29      35.53   798.55  \n",
       "Juan Santiago            13.70     17.40       232.31      38.40   898.19  \n",
       "James Webb               66.79     15.62       192.38      34.47   768.04  \n",
       "Kylie Sabol               0.00     15.51       167.77      34.23   852.11  \n",
       "Amber Ali                20.39      4.77        50.41      10.53   242.85  \n",
       "Lee Chang                29.60      6.92        57.02      15.28   368.58  \n",
       "Albert Fritz              0.00     15.93       196.64      35.15   850.84  \n",
       "Totals                  199.32     92.25      1087.82     203.59  4779.16  "
      ]
     },
     "execution_count": 10,
     "metadata": {},
     "output_type": "execute_result"
    }
   ],
   "source": [
    "# \n",
    "dftotal2021 = pd.DataFrame([Totals2021], index= ['Totals'], columns=['Rate', 'Hours', 'YTD Social Security', 'Ind Gross Pay',\n",
    "                         'Social Security', 'Medicare', 'Federal Tax', 'State Tax', 'Net Pay'])\n",
    "dftotal2021\n",
    "dfcase1 = pd.concat([df2021, dftotal2021])\n",
    "dfcase1"
   ]
  },
  {
   "cell_type": "code",
   "execution_count": 11,
   "id": "596b0b51",
   "metadata": {},
   "outputs": [
    {
     "data": {
      "text/plain": [
       "<AxesSubplot:title={'center':'Weekly Payroll'}>"
      ]
     },
     "execution_count": 11,
     "metadata": {},
     "output_type": "execute_result"
    },
    {
     "data": {
      "image/png": "[encoded data removed]",
      "text/plain": [
       "<Figure size 792x576 with 1 Axes>"
      ]
     },
     "metadata": {
      "needs_background": "light"
     },
     "output_type": "display_data"
    }
   ],
   "source": [
    "df2021.plot(kind='line',rot = 15,title = 'Weekly Payroll', figsize=(11,8))"
   ]
  },
  {
   "cell_type": "code",
   "execution_count": 12,
   "id": "e08cf99e",
   "metadata": {},
   "outputs": [
    {
     "name": "stdout",
     "output_type": "stream",
     "text": [
      "<class 'pandas.core.frame.DataFrame'>\n",
      "Index: 7 entries, Linus Breeze to Albert Fritz\n",
      "Data columns (total 9 columns):\n",
      " #   Column               Non-Null Count  Dtype  \n",
      "---  ------               --------------  -----  \n",
      " 0   Rate                 7 non-null      float64\n",
      " 1   Hours                7 non-null      float64\n",
      " 2   YTD Social Security  7 non-null      float64\n",
      " 3   Ind Gross Pay        7 non-null      float64\n",
      " 4   Social Security      7 non-null      float64\n",
      " 5   Medicare             7 non-null      float64\n",
      " 6   Federal Tax          7 non-null      float64\n",
      " 7   State Tax            7 non-null      float64\n",
      " 8   Net Pay              7 non-null      float64\n",
      "dtypes: float64(9)\n",
      "memory usage: 560.0+ bytes\n"
     ]
    }
   ],
   "source": [
    "# Summary of dataset\n",
    "df2021.info()"
   ]
  },
  {
   "cell_type": "code",
   "execution_count": 13,
   "id": "3899e637",
   "metadata": {},
   "outputs": [
    {
     "data": {
      "text/html": [
       "<div>\n",
       "<style scoped>\n",
       "    .dataframe tbody tr th:only-of-type {\n",
       "        vertical-align: middle;\n",
       "    }\n",
       "\n",
       "    .dataframe tbody tr th {\n",
       "        vertical-align: top;\n",
       "    }\n",
       "\n",
       "    .dataframe thead th {\n",
       "        text-align: right;\n",
       "    }\n",
       "</style>\n",
       "<table border=\"1\" class=\"dataframe\">\n",
       "  <thead>\n",
       "    <tr style=\"text-align: right;\">\n",
       "      <th></th>\n",
       "      <th>Rate</th>\n",
       "      <th>Hours</th>\n",
       "      <th>YTD Social Security</th>\n",
       "      <th>Ind Gross Pay</th>\n",
       "      <th>Social Security</th>\n",
       "      <th>Medicare</th>\n",
       "      <th>Federal Tax</th>\n",
       "      <th>State Tax</th>\n",
       "      <th>Net Pay</th>\n",
       "    </tr>\n",
       "  </thead>\n",
       "  <tbody>\n",
       "    <tr>\n",
       "      <th>Linus Breeze</th>\n",
       "      <td>27.50</td>\n",
       "      <td>40.25</td>\n",
       "      <td>4974.0</td>\n",
       "      <td>1110.31</td>\n",
       "      <td>68.84</td>\n",
       "      <td>16.10</td>\n",
       "      <td>191.29</td>\n",
       "      <td>35.53</td>\n",
       "      <td>798.55</td>\n",
       "    </tr>\n",
       "    <tr>\n",
       "      <th>Juan Santiago</th>\n",
       "      <td>18.75</td>\n",
       "      <td>56.00</td>\n",
       "      <td>5540.2</td>\n",
       "      <td>1200.00</td>\n",
       "      <td>13.70</td>\n",
       "      <td>17.40</td>\n",
       "      <td>232.31</td>\n",
       "      <td>38.40</td>\n",
       "      <td>898.19</td>\n",
       "    </tr>\n",
       "    <tr>\n",
       "      <th>James Webb</th>\n",
       "      <td>28.35</td>\n",
       "      <td>38.00</td>\n",
       "      <td>4254.0</td>\n",
       "      <td>1077.30</td>\n",
       "      <td>66.79</td>\n",
       "      <td>15.62</td>\n",
       "      <td>192.38</td>\n",
       "      <td>34.47</td>\n",
       "      <td>768.04</td>\n",
       "    </tr>\n",
       "    <tr>\n",
       "      <th>Kylie Sabol</th>\n",
       "      <td>21.50</td>\n",
       "      <td>46.50</td>\n",
       "      <td>5553.9</td>\n",
       "      <td>1069.62</td>\n",
       "      <td>0.00</td>\n",
       "      <td>15.51</td>\n",
       "      <td>167.77</td>\n",
       "      <td>34.23</td>\n",
       "      <td>852.11</td>\n",
       "    </tr>\n",
       "    <tr>\n",
       "      <th>Amber Ali</th>\n",
       "      <td>19.35</td>\n",
       "      <td>17.00</td>\n",
       "      <td>3447.6</td>\n",
       "      <td>328.95</td>\n",
       "      <td>20.39</td>\n",
       "      <td>4.77</td>\n",
       "      <td>50.41</td>\n",
       "      <td>10.53</td>\n",
       "      <td>242.85</td>\n",
       "    </tr>\n",
       "    <tr>\n",
       "      <th>Lee Chang</th>\n",
       "      <td>17.05</td>\n",
       "      <td>28.00</td>\n",
       "      <td>4825.5</td>\n",
       "      <td>477.40</td>\n",
       "      <td>29.60</td>\n",
       "      <td>6.92</td>\n",
       "      <td>57.02</td>\n",
       "      <td>15.28</td>\n",
       "      <td>368.58</td>\n",
       "    </tr>\n",
       "    <tr>\n",
       "      <th>Albert Fritz</th>\n",
       "      <td>28.35</td>\n",
       "      <td>38.75</td>\n",
       "      <td>5553.9</td>\n",
       "      <td>1098.56</td>\n",
       "      <td>0.00</td>\n",
       "      <td>15.93</td>\n",
       "      <td>196.64</td>\n",
       "      <td>35.15</td>\n",
       "      <td>850.84</td>\n",
       "    </tr>\n",
       "  </tbody>\n",
       "</table>\n",
       "</div>"
      ],
      "text/plain": [
       "                Rate  Hours  YTD Social Security  Ind Gross Pay  \\\n",
       "Linus Breeze   27.50  40.25               4974.0        1110.31   \n",
       "Juan Santiago  18.75  56.00               5540.2        1200.00   \n",
       "James Webb     28.35  38.00               4254.0        1077.30   \n",
       "Kylie Sabol    21.50  46.50               5553.9        1069.62   \n",
       "Amber Ali      19.35  17.00               3447.6         328.95   \n",
       "Lee Chang      17.05  28.00               4825.5         477.40   \n",
       "Albert Fritz   28.35  38.75               5553.9        1098.56   \n",
       "\n",
       "               Social Security  Medicare  Federal Tax  State Tax  Net Pay  \n",
       "Linus Breeze             68.84     16.10       191.29      35.53   798.55  \n",
       "Juan Santiago            13.70     17.40       232.31      38.40   898.19  \n",
       "James Webb               66.79     15.62       192.38      34.47   768.04  \n",
       "Kylie Sabol               0.00     15.51       167.77      34.23   852.11  \n",
       "Amber Ali                20.39      4.77        50.41      10.53   242.85  \n",
       "Lee Chang                29.60      6.92        57.02      15.28   368.58  \n",
       "Albert Fritz              0.00     15.93       196.64      35.15   850.84  "
      ]
     },
     "execution_count": 13,
     "metadata": {},
     "output_type": "execute_result"
    }
   ],
   "source": [
    "df2021.select_dtypes(np.number)"
   ]
  },
  {
   "cell_type": "code",
   "execution_count": 14,
   "id": "2b508310",
   "metadata": {},
   "outputs": [
    {
     "data": {
      "text/plain": [
       "(7, 9)"
      ]
     },
     "execution_count": 14,
     "metadata": {},
     "output_type": "execute_result"
    }
   ],
   "source": [
    "# Dimensions of dataset(instances and variables)  \n",
    "df2021.shape"
   ]
  },
  {
   "cell_type": "code",
   "execution_count": 15,
   "id": "68a1e4d8",
   "metadata": {},
   "outputs": [
    {
     "data": {
      "text/plain": [
       "Rate                   0\n",
       "Hours                  0\n",
       "YTD Social Security    0\n",
       "Ind Gross Pay          0\n",
       "Social Security        0\n",
       "Medicare               0\n",
       "Federal Tax            0\n",
       "State Tax              0\n",
       "Net Pay                0\n",
       "dtype: int64"
      ]
     },
     "execution_count": 15,
     "metadata": {},
     "output_type": "execute_result"
    }
   ],
   "source": [
    "# Check for missing values\n",
    "df2021.isnull().sum()"
   ]
  },
  {
   "cell_type": "code",
   "execution_count": 16,
   "id": "c061404c",
   "metadata": {},
   "outputs": [
    {
     "data": {
      "text/plain": [
       "Rate                     27.50\n",
       "Hours                    40.25\n",
       "YTD Social Security    4974.00\n",
       "Ind Gross Pay          1110.31\n",
       "Social Security          68.84\n",
       "Medicare                 16.10\n",
       "Federal Tax             191.29\n",
       "State Tax                35.53\n",
       "Net Pay                 798.55\n",
       "Name: Linus Breeze, dtype: float64"
      ]
     },
     "execution_count": 16,
     "metadata": {},
     "output_type": "execute_result"
    }
   ],
   "source": [
    "# All info. of a single employee\n",
    "df2021.loc[\"Linus Breeze\"]"
   ]
  },
  {
   "cell_type": "code",
   "execution_count": 17,
   "id": "00b3a827",
   "metadata": {},
   "outputs": [
    {
     "data": {
      "text/html": [
       "<div>\n",
       "<style scoped>\n",
       "    .dataframe tbody tr th:only-of-type {\n",
       "        vertical-align: middle;\n",
       "    }\n",
       "\n",
       "    .dataframe tbody tr th {\n",
       "        vertical-align: top;\n",
       "    }\n",
       "\n",
       "    .dataframe thead th {\n",
       "        text-align: right;\n",
       "    }\n",
       "</style>\n",
       "<table border=\"1\" class=\"dataframe\">\n",
       "  <thead>\n",
       "    <tr style=\"text-align: right;\">\n",
       "      <th></th>\n",
       "      <th>Hours</th>\n",
       "    </tr>\n",
       "  </thead>\n",
       "  <tbody>\n",
       "    <tr>\n",
       "      <th>Lee Chang</th>\n",
       "      <td>28.0</td>\n",
       "    </tr>\n",
       "  </tbody>\n",
       "</table>\n",
       "</div>"
      ],
      "text/plain": [
       "           Hours\n",
       "Lee Chang   28.0"
      ]
     },
     "execution_count": 17,
     "metadata": {},
     "output_type": "execute_result"
    }
   ],
   "source": [
    "# single value for row/columns par\n",
    "df2021.iloc[5:6, 1:2]"
   ]
  },
  {
   "cell_type": "code",
   "execution_count": 18,
   "id": "bd5dc73f",
   "metadata": {},
   "outputs": [
    {
     "data": {
      "text/html": [
       "<div>\n",
       "<style scoped>\n",
       "    .dataframe tbody tr th:only-of-type {\n",
       "        vertical-align: middle;\n",
       "    }\n",
       "\n",
       "    .dataframe tbody tr th {\n",
       "        vertical-align: top;\n",
       "    }\n",
       "\n",
       "    .dataframe thead th {\n",
       "        text-align: right;\n",
       "    }\n",
       "</style>\n",
       "<table border=\"1\" class=\"dataframe\">\n",
       "  <thead>\n",
       "    <tr style=\"text-align: right;\">\n",
       "      <th></th>\n",
       "      <th>Rate</th>\n",
       "      <th>Hours</th>\n",
       "      <th>YTD Social Security</th>\n",
       "      <th>Ind Gross Pay</th>\n",
       "      <th>Social Security</th>\n",
       "      <th>Medicare</th>\n",
       "      <th>Federal Tax</th>\n",
       "      <th>State Tax</th>\n",
       "      <th>Net Pay</th>\n",
       "    </tr>\n",
       "  </thead>\n",
       "  <tbody>\n",
       "    <tr>\n",
       "      <th>Linus Breeze</th>\n",
       "      <td>27.50</td>\n",
       "      <td>40.25</td>\n",
       "      <td>4974.0</td>\n",
       "      <td>1110.31</td>\n",
       "      <td>68.84</td>\n",
       "      <td>16.10</td>\n",
       "      <td>191.29</td>\n",
       "      <td>35.53</td>\n",
       "      <td>798.55</td>\n",
       "    </tr>\n",
       "    <tr>\n",
       "      <th>Juan Santiago</th>\n",
       "      <td>18.75</td>\n",
       "      <td>56.00</td>\n",
       "      <td>5540.2</td>\n",
       "      <td>1200.00</td>\n",
       "      <td>13.70</td>\n",
       "      <td>17.40</td>\n",
       "      <td>232.31</td>\n",
       "      <td>38.40</td>\n",
       "      <td>898.19</td>\n",
       "    </tr>\n",
       "    <tr>\n",
       "      <th>Kylie Sabol</th>\n",
       "      <td>21.50</td>\n",
       "      <td>46.50</td>\n",
       "      <td>5553.9</td>\n",
       "      <td>1069.62</td>\n",
       "      <td>0.00</td>\n",
       "      <td>15.51</td>\n",
       "      <td>167.77</td>\n",
       "      <td>34.23</td>\n",
       "      <td>852.11</td>\n",
       "    </tr>\n",
       "  </tbody>\n",
       "</table>\n",
       "</div>"
      ],
      "text/plain": [
       "                Rate  Hours  YTD Social Security  Ind Gross Pay  \\\n",
       "Linus Breeze   27.50  40.25               4974.0        1110.31   \n",
       "Juan Santiago  18.75  56.00               5540.2        1200.00   \n",
       "Kylie Sabol    21.50  46.50               5553.9        1069.62   \n",
       "\n",
       "               Social Security  Medicare  Federal Tax  State Tax  Net Pay  \n",
       "Linus Breeze             68.84     16.10       191.29      35.53   798.55  \n",
       "Juan Santiago            13.70     17.40       232.31      38.40   898.19  \n",
       "Kylie Sabol               0.00     15.51       167.77      34.23   852.11  "
      ]
     },
     "execution_count": 18,
     "metadata": {},
     "output_type": "execute_result"
    }
   ],
   "source": [
    "# Employee with overtime\n",
    "df2021.loc[df2021[\"Hours\"] > 40]"
   ]
  },
  {
   "cell_type": "code",
   "execution_count": 19,
   "id": "c6e7380d",
   "metadata": {},
   "outputs": [
    {
     "data": {
      "text/html": [
       "<div>\n",
       "<style scoped>\n",
       "    .dataframe tbody tr th:only-of-type {\n",
       "        vertical-align: middle;\n",
       "    }\n",
       "\n",
       "    .dataframe tbody tr th {\n",
       "        vertical-align: top;\n",
       "    }\n",
       "\n",
       "    .dataframe thead th {\n",
       "        text-align: right;\n",
       "    }\n",
       "</style>\n",
       "<table border=\"1\" class=\"dataframe\">\n",
       "  <thead>\n",
       "    <tr style=\"text-align: right;\">\n",
       "      <th></th>\n",
       "      <th>Rate</th>\n",
       "      <th>Hours</th>\n",
       "      <th>YTD Social Security</th>\n",
       "      <th>Ind Gross Pay</th>\n",
       "      <th>Social Security</th>\n",
       "      <th>Medicare</th>\n",
       "      <th>Federal Tax</th>\n",
       "      <th>State Tax</th>\n",
       "      <th>Net Pay</th>\n",
       "    </tr>\n",
       "  </thead>\n",
       "  <tbody>\n",
       "    <tr>\n",
       "      <th>Kylie Sabol</th>\n",
       "      <td>21.50</td>\n",
       "      <td>46.50</td>\n",
       "      <td>5553.9</td>\n",
       "      <td>1069.62</td>\n",
       "      <td>0.0</td>\n",
       "      <td>15.51</td>\n",
       "      <td>167.77</td>\n",
       "      <td>34.23</td>\n",
       "      <td>852.11</td>\n",
       "    </tr>\n",
       "    <tr>\n",
       "      <th>Albert Fritz</th>\n",
       "      <td>28.35</td>\n",
       "      <td>38.75</td>\n",
       "      <td>5553.9</td>\n",
       "      <td>1098.56</td>\n",
       "      <td>0.0</td>\n",
       "      <td>15.93</td>\n",
       "      <td>196.64</td>\n",
       "      <td>35.15</td>\n",
       "      <td>850.84</td>\n",
       "    </tr>\n",
       "  </tbody>\n",
       "</table>\n",
       "</div>"
      ],
      "text/plain": [
       "               Rate  Hours  YTD Social Security  Ind Gross Pay  \\\n",
       "Kylie Sabol   21.50  46.50               5553.9        1069.62   \n",
       "Albert Fritz  28.35  38.75               5553.9        1098.56   \n",
       "\n",
       "              Social Security  Medicare  Federal Tax  State Tax  Net Pay  \n",
       "Kylie Sabol               0.0     15.51       167.77      34.23   852.11  \n",
       "Albert Fritz              0.0     15.93       196.64      35.15   850.84  "
      ]
     },
     "execution_count": 19,
     "metadata": {},
     "output_type": "execute_result"
    }
   ],
   "source": [
    "# Employee who reached Social Security Limit for a year\n",
    "df2021.loc[df2021[\"YTD Social Security\"] >= 5553.90]"
   ]
  },
  {
   "cell_type": "code",
   "execution_count": 32,
   "id": "3a5ec8e9",
   "metadata": {},
   "outputs": [
    {
     "data": {
      "text/plain": [
       "Text(0.5, 1.0, 'Histogram of YTD Social Security')"
      ]
     },
     "execution_count": 32,
     "metadata": {},
     "output_type": "execute_result"
    },
    {
     "data": {
      "image/png": "[encoded data removed]",
      "text/plain": [
       "<Figure size 432x288 with 1 Axes>"
      ]
     },
     "metadata": {
      "needs_background": "light"
     },
     "output_type": "display_data"
    }
   ],
   "source": [
    "sns.histplot(df2021['YTD Social Security'], kde =False, bins= 4).set_title(\"Histogram of YTD Social Security\")"
   ]
  },
  {
   "cell_type": "code",
   "execution_count": 38,
   "id": "d0373da9",
   "metadata": {},
   "outputs": [
    {
     "data": {
      "text/plain": [
       "Rate                   0.130296\n",
       "Hours                 -0.378875\n",
       "YTD Social Security   -1.049205\n",
       "Ind Gross Pay         -1.226581\n",
       "Social Security        0.698481\n",
       "Medicare              -1.226440\n",
       "Federal Tax           -0.927962\n",
       "State Tax             -1.226534\n",
       "Net Pay               -1.204664\n",
       "dtype: float64"
      ]
     },
     "execution_count": 38,
     "metadata": {},
     "output_type": "execute_result"
    }
   ],
   "source": [
    "df2021.skew()"
   ]
  },
  {
   "cell_type": "code",
   "execution_count": 21,
   "id": "753ab647",
   "metadata": {},
   "outputs": [
    {
     "data": {
      "text/html": [
       "<div>\n",
       "<style scoped>\n",
       "    .dataframe tbody tr th:only-of-type {\n",
       "        vertical-align: middle;\n",
       "    }\n",
       "\n",
       "    .dataframe tbody tr th {\n",
       "        vertical-align: top;\n",
       "    }\n",
       "\n",
       "    .dataframe thead th {\n",
       "        text-align: right;\n",
       "    }\n",
       "</style>\n",
       "<table border=\"1\" class=\"dataframe\">\n",
       "  <thead>\n",
       "    <tr style=\"text-align: right;\">\n",
       "      <th></th>\n",
       "      <th>YTD Social Security</th>\n",
       "      <th>Social Security</th>\n",
       "      <th>Medicare</th>\n",
       "    </tr>\n",
       "  </thead>\n",
       "  <tbody>\n",
       "    <tr>\n",
       "      <th>Linus Breeze</th>\n",
       "      <td>4974.0</td>\n",
       "      <td>68.84</td>\n",
       "      <td>16.10</td>\n",
       "    </tr>\n",
       "    <tr>\n",
       "      <th>Juan Santiago</th>\n",
       "      <td>5540.2</td>\n",
       "      <td>13.70</td>\n",
       "      <td>17.40</td>\n",
       "    </tr>\n",
       "    <tr>\n",
       "      <th>James Webb</th>\n",
       "      <td>4254.0</td>\n",
       "      <td>66.79</td>\n",
       "      <td>15.62</td>\n",
       "    </tr>\n",
       "    <tr>\n",
       "      <th>Kylie Sabol</th>\n",
       "      <td>5553.9</td>\n",
       "      <td>0.00</td>\n",
       "      <td>15.51</td>\n",
       "    </tr>\n",
       "    <tr>\n",
       "      <th>Amber Ali</th>\n",
       "      <td>3447.6</td>\n",
       "      <td>20.39</td>\n",
       "      <td>4.77</td>\n",
       "    </tr>\n",
       "    <tr>\n",
       "      <th>Lee Chang</th>\n",
       "      <td>4825.5</td>\n",
       "      <td>29.60</td>\n",
       "      <td>6.92</td>\n",
       "    </tr>\n",
       "    <tr>\n",
       "      <th>Albert Fritz</th>\n",
       "      <td>5553.9</td>\n",
       "      <td>0.00</td>\n",
       "      <td>15.93</td>\n",
       "    </tr>\n",
       "  </tbody>\n",
       "</table>\n",
       "</div>"
      ],
      "text/plain": [
       "               YTD Social Security  Social Security  Medicare\n",
       "Linus Breeze                4974.0            68.84     16.10\n",
       "Juan Santiago               5540.2            13.70     17.40\n",
       "James Webb                  4254.0            66.79     15.62\n",
       "Kylie Sabol                 5553.9             0.00     15.51\n",
       "Amber Ali                   3447.6            20.39      4.77\n",
       "Lee Chang                   4825.5            29.60      6.92\n",
       "Albert Fritz                5553.9             0.00     15.93"
      ]
     },
     "execution_count": 21,
     "metadata": {},
     "output_type": "execute_result"
    }
   ],
   "source": [
    "#Table case 1 Year 2021 (sst 0.062 and medtax 0.0145)\n",
    "df2021.iloc[ :, [2, 4,5]]"
   ]
  },
  {
   "cell_type": "code",
   "execution_count": 22,
   "id": "52d523d3",
   "metadata": {},
   "outputs": [
    {
     "data": {
      "text/html": [
       "<div>\n",
       "<style scoped>\n",
       "    .dataframe tbody tr th:only-of-type {\n",
       "        vertical-align: middle;\n",
       "    }\n",
       "\n",
       "    .dataframe tbody tr th {\n",
       "        vertical-align: top;\n",
       "    }\n",
       "\n",
       "    .dataframe thead th {\n",
       "        text-align: right;\n",
       "    }\n",
       "</style>\n",
       "<table border=\"1\" class=\"dataframe\">\n",
       "  <thead>\n",
       "    <tr style=\"text-align: right;\">\n",
       "      <th></th>\n",
       "      <th>YTD Social Security</th>\n",
       "      <th>Social Security</th>\n",
       "      <th>Medicare</th>\n",
       "    </tr>\n",
       "  </thead>\n",
       "  <tbody>\n",
       "    <tr>\n",
       "      <th>Linus Breeze</th>\n",
       "      <td>4974.0</td>\n",
       "      <td>88.82</td>\n",
       "      <td>30.53</td>\n",
       "    </tr>\n",
       "    <tr>\n",
       "      <th>Juan Santiago</th>\n",
       "      <td>5540.2</td>\n",
       "      <td>13.70</td>\n",
       "      <td>33.00</td>\n",
       "    </tr>\n",
       "    <tr>\n",
       "      <th>James Webb</th>\n",
       "      <td>4254.0</td>\n",
       "      <td>86.18</td>\n",
       "      <td>29.63</td>\n",
       "    </tr>\n",
       "    <tr>\n",
       "      <th>Kylie Sabol</th>\n",
       "      <td>5553.9</td>\n",
       "      <td>0.00</td>\n",
       "      <td>29.41</td>\n",
       "    </tr>\n",
       "    <tr>\n",
       "      <th>Amber Ali</th>\n",
       "      <td>3447.6</td>\n",
       "      <td>26.32</td>\n",
       "      <td>9.05</td>\n",
       "    </tr>\n",
       "    <tr>\n",
       "      <th>Lee Chang</th>\n",
       "      <td>4825.5</td>\n",
       "      <td>38.19</td>\n",
       "      <td>13.13</td>\n",
       "    </tr>\n",
       "    <tr>\n",
       "      <th>Albert Fritz</th>\n",
       "      <td>5553.9</td>\n",
       "      <td>0.00</td>\n",
       "      <td>30.21</td>\n",
       "    </tr>\n",
       "  </tbody>\n",
       "</table>\n",
       "</div>"
      ],
      "text/plain": [
       "               YTD Social Security  Social Security  Medicare\n",
       "Linus Breeze                4974.0            88.82     30.53\n",
       "Juan Santiago               5540.2            13.70     33.00\n",
       "James Webb                  4254.0            86.18     29.63\n",
       "Kylie Sabol                 5553.9             0.00     29.41\n",
       "Amber Ali                   3447.6            26.32      9.05\n",
       "Lee Chang                   4825.5            38.19     13.13\n",
       "Albert Fritz                5553.9             0.00     30.21"
      ]
     },
     "execution_count": 22,
     "metadata": {},
     "output_type": "execute_result"
    }
   ],
   "source": [
    "#Table case 2 Year 2022(sst 0.080 and medtax 0.0275) assumption\n",
    "df2022.iloc[ :, [2, 4,5]]"
   ]
  },
  {
   "cell_type": "code",
   "execution_count": 23,
   "id": "f42e4230",
   "metadata": {},
   "outputs": [
    {
     "data": {
      "text/html": [
       "<div>\n",
       "<style scoped>\n",
       "    .dataframe tbody tr th:only-of-type {\n",
       "        vertical-align: middle;\n",
       "    }\n",
       "\n",
       "    .dataframe tbody tr th {\n",
       "        vertical-align: top;\n",
       "    }\n",
       "\n",
       "    .dataframe thead th {\n",
       "        text-align: right;\n",
       "    }\n",
       "</style>\n",
       "<table border=\"1\" class=\"dataframe\">\n",
       "  <thead>\n",
       "    <tr style=\"text-align: right;\">\n",
       "      <th></th>\n",
       "      <th>YTD Social Security</th>\n",
       "      <th>Social Security</th>\n",
       "      <th>Medicare</th>\n",
       "    </tr>\n",
       "  </thead>\n",
       "  <tbody>\n",
       "    <tr>\n",
       "      <th>Linus Breeze</th>\n",
       "      <td>4974.0</td>\n",
       "      <td>116.58</td>\n",
       "      <td>24.98</td>\n",
       "    </tr>\n",
       "    <tr>\n",
       "      <th>Juan Santiago</th>\n",
       "      <td>5540.2</td>\n",
       "      <td>13.70</td>\n",
       "      <td>27.00</td>\n",
       "    </tr>\n",
       "    <tr>\n",
       "      <th>James Webb</th>\n",
       "      <td>4254.0</td>\n",
       "      <td>113.12</td>\n",
       "      <td>24.24</td>\n",
       "    </tr>\n",
       "    <tr>\n",
       "      <th>Kylie Sabol</th>\n",
       "      <td>5553.9</td>\n",
       "      <td>0.00</td>\n",
       "      <td>24.07</td>\n",
       "    </tr>\n",
       "    <tr>\n",
       "      <th>Amber Ali</th>\n",
       "      <td>3447.6</td>\n",
       "      <td>34.54</td>\n",
       "      <td>7.40</td>\n",
       "    </tr>\n",
       "    <tr>\n",
       "      <th>Lee Chang</th>\n",
       "      <td>4825.5</td>\n",
       "      <td>50.13</td>\n",
       "      <td>10.74</td>\n",
       "    </tr>\n",
       "    <tr>\n",
       "      <th>Albert Fritz</th>\n",
       "      <td>5553.9</td>\n",
       "      <td>0.00</td>\n",
       "      <td>24.72</td>\n",
       "    </tr>\n",
       "  </tbody>\n",
       "</table>\n",
       "</div>"
      ],
      "text/plain": [
       "               YTD Social Security  Social Security  Medicare\n",
       "Linus Breeze                4974.0           116.58     24.98\n",
       "Juan Santiago               5540.2            13.70     27.00\n",
       "James Webb                  4254.0           113.12     24.24\n",
       "Kylie Sabol                 5553.9             0.00     24.07\n",
       "Amber Ali                   3447.6            34.54      7.40\n",
       "Lee Chang                   4825.5            50.13     10.74\n",
       "Albert Fritz                5553.9             0.00     24.72"
      ]
     },
     "execution_count": 23,
     "metadata": {},
     "output_type": "execute_result"
    }
   ],
   "source": [
    "#Table case 3 Year 2023(sst 0.105and medtax 0.0225) assumption\n",
    "df2023.iloc[ :, [2, 4,5]]"
   ]
  },
  {
   "cell_type": "code",
   "execution_count": 24,
   "id": "9e01c3da",
   "metadata": {},
   "outputs": [
    {
     "data": {
      "text/html": [
       "<div>\n",
       "<style scoped>\n",
       "    .dataframe tbody tr th:only-of-type {\n",
       "        vertical-align: middle;\n",
       "    }\n",
       "\n",
       "    .dataframe tbody tr th {\n",
       "        vertical-align: top;\n",
       "    }\n",
       "\n",
       "    .dataframe thead th {\n",
       "        text-align: right;\n",
       "    }\n",
       "</style>\n",
       "<table border=\"1\" class=\"dataframe\">\n",
       "  <thead>\n",
       "    <tr style=\"text-align: right;\">\n",
       "      <th></th>\n",
       "      <th>Rate</th>\n",
       "      <th>Hours</th>\n",
       "      <th>YTD Social Security</th>\n",
       "      <th>Ind Gross Pay</th>\n",
       "      <th>Social Security</th>\n",
       "      <th>Medicare</th>\n",
       "      <th>Federal Tax</th>\n",
       "      <th>State Tax</th>\n",
       "      <th>Net Pay</th>\n",
       "    </tr>\n",
       "  </thead>\n",
       "  <tbody>\n",
       "    <tr>\n",
       "      <th>count</th>\n",
       "      <td>7.000000</td>\n",
       "      <td>7.000000</td>\n",
       "      <td>7.000000</td>\n",
       "      <td>7.000000</td>\n",
       "      <td>7.000000</td>\n",
       "      <td>7.000000</td>\n",
       "      <td>7.000000</td>\n",
       "      <td>7.000000</td>\n",
       "      <td>7.000000</td>\n",
       "    </tr>\n",
       "    <tr>\n",
       "      <th>mean</th>\n",
       "      <td>22.978571</td>\n",
       "      <td>37.785714</td>\n",
       "      <td>4878.442857</td>\n",
       "      <td>908.877143</td>\n",
       "      <td>28.474286</td>\n",
       "      <td>13.178571</td>\n",
       "      <td>155.402857</td>\n",
       "      <td>29.084286</td>\n",
       "      <td>682.737143</td>\n",
       "    </tr>\n",
       "    <tr>\n",
       "      <th>std</th>\n",
       "      <td>4.941816</td>\n",
       "      <td>12.533645</td>\n",
       "      <td>795.778602</td>\n",
       "      <td>350.713521</td>\n",
       "      <td>28.878935</td>\n",
       "      <td>5.085854</td>\n",
       "      <td>72.025504</td>\n",
       "      <td>11.220716</td>\n",
       "      <td>263.391430</td>\n",
       "    </tr>\n",
       "    <tr>\n",
       "      <th>min</th>\n",
       "      <td>17.050000</td>\n",
       "      <td>17.000000</td>\n",
       "      <td>3447.600000</td>\n",
       "      <td>328.950000</td>\n",
       "      <td>0.000000</td>\n",
       "      <td>4.770000</td>\n",
       "      <td>50.410000</td>\n",
       "      <td>10.530000</td>\n",
       "      <td>242.850000</td>\n",
       "    </tr>\n",
       "    <tr>\n",
       "      <th>25%</th>\n",
       "      <td>19.050000</td>\n",
       "      <td>33.000000</td>\n",
       "      <td>4539.750000</td>\n",
       "      <td>773.510000</td>\n",
       "      <td>6.850000</td>\n",
       "      <td>11.215000</td>\n",
       "      <td>112.395000</td>\n",
       "      <td>24.755000</td>\n",
       "      <td>568.310000</td>\n",
       "    </tr>\n",
       "    <tr>\n",
       "      <th>50%</th>\n",
       "      <td>21.500000</td>\n",
       "      <td>38.750000</td>\n",
       "      <td>4974.000000</td>\n",
       "      <td>1077.300000</td>\n",
       "      <td>20.390000</td>\n",
       "      <td>15.620000</td>\n",
       "      <td>191.290000</td>\n",
       "      <td>34.470000</td>\n",
       "      <td>798.550000</td>\n",
       "    </tr>\n",
       "    <tr>\n",
       "      <th>75%</th>\n",
       "      <td>27.925000</td>\n",
       "      <td>43.375000</td>\n",
       "      <td>5547.050000</td>\n",
       "      <td>1104.435000</td>\n",
       "      <td>48.195000</td>\n",
       "      <td>16.015000</td>\n",
       "      <td>194.510000</td>\n",
       "      <td>35.340000</td>\n",
       "      <td>851.475000</td>\n",
       "    </tr>\n",
       "    <tr>\n",
       "      <th>max</th>\n",
       "      <td>28.350000</td>\n",
       "      <td>56.000000</td>\n",
       "      <td>5553.900000</td>\n",
       "      <td>1200.000000</td>\n",
       "      <td>68.840000</td>\n",
       "      <td>17.400000</td>\n",
       "      <td>232.310000</td>\n",
       "      <td>38.400000</td>\n",
       "      <td>898.190000</td>\n",
       "    </tr>\n",
       "  </tbody>\n",
       "</table>\n",
       "</div>"
      ],
      "text/plain": [
       "            Rate      Hours  YTD Social Security  Ind Gross Pay  \\\n",
       "count   7.000000   7.000000             7.000000       7.000000   \n",
       "mean   22.978571  37.785714          4878.442857     908.877143   \n",
       "std     4.941816  12.533645           795.778602     350.713521   \n",
       "min    17.050000  17.000000          3447.600000     328.950000   \n",
       "25%    19.050000  33.000000          4539.750000     773.510000   \n",
       "50%    21.500000  38.750000          4974.000000    1077.300000   \n",
       "75%    27.925000  43.375000          5547.050000    1104.435000   \n",
       "max    28.350000  56.000000          5553.900000    1200.000000   \n",
       "\n",
       "       Social Security   Medicare  Federal Tax  State Tax     Net Pay  \n",
       "count         7.000000   7.000000     7.000000   7.000000    7.000000  \n",
       "mean         28.474286  13.178571   155.402857  29.084286  682.737143  \n",
       "std          28.878935   5.085854    72.025504  11.220716  263.391430  \n",
       "min           0.000000   4.770000    50.410000  10.530000  242.850000  \n",
       "25%           6.850000  11.215000   112.395000  24.755000  568.310000  \n",
       "50%          20.390000  15.620000   191.290000  34.470000  798.550000  \n",
       "75%          48.195000  16.015000   194.510000  35.340000  851.475000  \n",
       "max          68.840000  17.400000   232.310000  38.400000  898.190000  "
      ]
     },
     "execution_count": 24,
     "metadata": {},
     "output_type": "execute_result"
    }
   ],
   "source": [
    "# Statistical Data (numerical)\n",
    "# The describe() function gives us the count, mean, standard deviation(std), minimum, Q1(25%), \n",
    "# median(50%), Q3(75%), IQR(Q3 - Q1) and maximum values. \n",
    "df2021.describe()"
   ]
  },
  {
   "cell_type": "code",
   "execution_count": null,
   "id": "341af872",
   "metadata": {},
   "outputs": [],
   "source": [
    "# Centrality Measure\n",
    "# Mean, Median, & Mode"
   ]
  },
  {
   "cell_type": "code",
   "execution_count": null,
   "id": "a2694183",
   "metadata": {},
   "outputs": [
    {
     "data": {
      "text/plain": [
       "Rate                     22.978571\n",
       "Hours                    37.785714\n",
       "YTD Social Security    4878.442857\n",
       "Ind Gross Pay           908.877143\n",
       "Social Security          28.474286\n",
       "Medicare                 13.178571\n",
       "Federal Tax             155.402857\n",
       "State Tax                29.084286\n",
       "Net Pay                 682.737143\n",
       "dtype: float64"
      ]
     },
     "execution_count": 21,
     "metadata": {},
     "output_type": "execute_result"
    }
   ],
   "source": [
    "#Mean is the average value that is equal to the ration of sum of values in a data set and total number of values.\n",
    "df2021.mean() # Mean"
   ]
  },
  {
   "cell_type": "code",
   "execution_count": null,
   "id": "53b78d66",
   "metadata": {},
   "outputs": [
    {
     "data": {
      "text/plain": [
       "Rate                     21.50\n",
       "Hours                    38.75\n",
       "YTD Social Security    4974.00\n",
       "Ind Gross Pay          1077.30\n",
       "Social Security          20.39\n",
       "Medicare                 15.62\n",
       "Federal Tax             191.29\n",
       "State Tax                34.47\n",
       "Net Pay                 798.55\n",
       "dtype: float64"
      ]
     },
     "execution_count": 22,
     "metadata": {},
     "output_type": "execute_result"
    }
   ],
   "source": [
    "# Median is the central value of given set of values when arranged in an order. \n",
    "# Centrality Measure\n",
    "df2021.median() # Median"
   ]
  },
  {
   "cell_type": "code",
   "execution_count": null,
   "id": "98f7c3a5",
   "metadata": {},
   "outputs": [
    {
     "data": {
      "text/html": [
       "<div>\n",
       "<style scoped>\n",
       "    .dataframe tbody tr th:only-of-type {\n",
       "        vertical-align: middle;\n",
       "    }\n",
       "\n",
       "    .dataframe tbody tr th {\n",
       "        vertical-align: top;\n",
       "    }\n",
       "\n",
       "    .dataframe thead th {\n",
       "        text-align: right;\n",
       "    }\n",
       "</style>\n",
       "<table border=\"1\" class=\"dataframe\">\n",
       "  <thead>\n",
       "    <tr style=\"text-align: right;\">\n",
       "      <th></th>\n",
       "      <th>Rate</th>\n",
       "      <th>Hours</th>\n",
       "      <th>YTD Social Security</th>\n",
       "      <th>Ind Gross Pay</th>\n",
       "      <th>Social Security</th>\n",
       "      <th>Medicare</th>\n",
       "      <th>Federal Tax</th>\n",
       "      <th>State Tax</th>\n",
       "      <th>Net Pay</th>\n",
       "    </tr>\n",
       "  </thead>\n",
       "  <tbody>\n",
       "    <tr>\n",
       "      <th>0</th>\n",
       "      <td>28.35</td>\n",
       "      <td>17.00</td>\n",
       "      <td>5553.9</td>\n",
       "      <td>328.95</td>\n",
       "      <td>0.0</td>\n",
       "      <td>4.77</td>\n",
       "      <td>50.41</td>\n",
       "      <td>10.53</td>\n",
       "      <td>242.85</td>\n",
       "    </tr>\n",
       "    <tr>\n",
       "      <th>1</th>\n",
       "      <td>NaN</td>\n",
       "      <td>28.00</td>\n",
       "      <td>NaN</td>\n",
       "      <td>477.40</td>\n",
       "      <td>NaN</td>\n",
       "      <td>6.92</td>\n",
       "      <td>57.02</td>\n",
       "      <td>15.28</td>\n",
       "      <td>368.58</td>\n",
       "    </tr>\n",
       "    <tr>\n",
       "      <th>2</th>\n",
       "      <td>NaN</td>\n",
       "      <td>38.00</td>\n",
       "      <td>NaN</td>\n",
       "      <td>1069.62</td>\n",
       "      <td>NaN</td>\n",
       "      <td>15.51</td>\n",
       "      <td>167.77</td>\n",
       "      <td>34.23</td>\n",
       "      <td>768.04</td>\n",
       "    </tr>\n",
       "    <tr>\n",
       "      <th>3</th>\n",
       "      <td>NaN</td>\n",
       "      <td>38.75</td>\n",
       "      <td>NaN</td>\n",
       "      <td>1077.30</td>\n",
       "      <td>NaN</td>\n",
       "      <td>15.62</td>\n",
       "      <td>191.29</td>\n",
       "      <td>34.47</td>\n",
       "      <td>798.55</td>\n",
       "    </tr>\n",
       "    <tr>\n",
       "      <th>4</th>\n",
       "      <td>NaN</td>\n",
       "      <td>40.25</td>\n",
       "      <td>NaN</td>\n",
       "      <td>1098.56</td>\n",
       "      <td>NaN</td>\n",
       "      <td>15.93</td>\n",
       "      <td>192.38</td>\n",
       "      <td>35.15</td>\n",
       "      <td>850.84</td>\n",
       "    </tr>\n",
       "    <tr>\n",
       "      <th>5</th>\n",
       "      <td>NaN</td>\n",
       "      <td>46.50</td>\n",
       "      <td>NaN</td>\n",
       "      <td>1110.31</td>\n",
       "      <td>NaN</td>\n",
       "      <td>16.10</td>\n",
       "      <td>196.64</td>\n",
       "      <td>35.53</td>\n",
       "      <td>852.11</td>\n",
       "    </tr>\n",
       "    <tr>\n",
       "      <th>6</th>\n",
       "      <td>NaN</td>\n",
       "      <td>56.00</td>\n",
       "      <td>NaN</td>\n",
       "      <td>1200.00</td>\n",
       "      <td>NaN</td>\n",
       "      <td>17.40</td>\n",
       "      <td>232.31</td>\n",
       "      <td>38.40</td>\n",
       "      <td>898.19</td>\n",
       "    </tr>\n",
       "  </tbody>\n",
       "</table>\n",
       "</div>"
      ],
      "text/plain": [
       "    Rate  Hours  YTD Social Security  Ind Gross Pay  Social Security  \\\n",
       "0  28.35  17.00               5553.9         328.95              0.0   \n",
       "1    NaN  28.00                  NaN         477.40              NaN   \n",
       "2    NaN  38.00                  NaN        1069.62              NaN   \n",
       "3    NaN  38.75                  NaN        1077.30              NaN   \n",
       "4    NaN  40.25                  NaN        1098.56              NaN   \n",
       "5    NaN  46.50                  NaN        1110.31              NaN   \n",
       "6    NaN  56.00                  NaN        1200.00              NaN   \n",
       "\n",
       "   Medicare  Federal Tax  State Tax  Net Pay  \n",
       "0      4.77        50.41      10.53   242.85  \n",
       "1      6.92        57.02      15.28   368.58  \n",
       "2     15.51       167.77      34.23   768.04  \n",
       "3     15.62       191.29      34.47   798.55  \n",
       "4     15.93       192.38      35.15   850.84  \n",
       "5     16.10       196.64      35.53   852.11  \n",
       "6     17.40       232.31      38.40   898.19  "
      ]
     },
     "execution_count": 23,
     "metadata": {},
     "output_type": "execute_result"
    }
   ],
   "source": [
    "# Centrality Measure\n",
    "# Nan - the computer cannot represent a value.\n",
    "# Mode is the most repetitive value of a given set of values In statistics, the mode is the value that is repeatedly occurring in a given set. \n",
    "# We can also say that the value or number in a data set, which has a high frequency or appears more frequently, is called mode or modal value. \n",
    "# A mode is defined as the value that has a higher frequency in a given set of values. \n",
    "# It is the value that appears the most number of times. \n",
    "df2021.mode() # Mode"
   ]
  },
  {
   "cell_type": "code",
   "execution_count": null,
   "id": "ea7d8b3e",
   "metadata": {},
   "outputs": [],
   "source": [
    "# Dispersion measures\n",
    "# minimum and maximum values, range, variance, standard-deviation, Q1, Q2, Q3, & IQR."
   ]
  },
  {
   "cell_type": "code",
   "execution_count": null,
   "id": "46e4870b",
   "metadata": {},
   "outputs": [
    {
     "data": {
      "text/plain": [
       "Rate                     17.05\n",
       "Hours                    17.00\n",
       "YTD Social Security    3447.60\n",
       "Ind Gross Pay           328.95\n",
       "Social Security           0.00\n",
       "Medicare                  4.77\n",
       "Federal Tax              50.41\n",
       "State Tax                10.53\n",
       "Net Pay                 242.85\n",
       "dtype: float64"
      ]
     },
     "execution_count": 25,
     "metadata": {},
     "output_type": "execute_result"
    }
   ],
   "source": [
    "df2021.min() # Minimum"
   ]
  },
  {
   "cell_type": "code",
   "execution_count": null,
   "id": "48d4bdfd",
   "metadata": {},
   "outputs": [
    {
     "data": {
      "text/plain": [
       "Rate                     28.35\n",
       "Hours                    56.00\n",
       "YTD Social Security    5553.90\n",
       "Ind Gross Pay          1200.00\n",
       "Social Security          68.84\n",
       "Medicare                 17.40\n",
       "Federal Tax             232.31\n",
       "State Tax                38.40\n",
       "Net Pay                 898.19\n",
       "dtype: float64"
      ]
     },
     "execution_count": 26,
     "metadata": {},
     "output_type": "execute_result"
    }
   ],
   "source": [
    "df2021.max() # Maximum"
   ]
  },
  {
   "cell_type": "code",
   "execution_count": null,
   "id": "23abf7bc",
   "metadata": {},
   "outputs": [
    {
     "data": {
      "text/plain": [
       "Rate                     11.30\n",
       "Hours                    39.00\n",
       "YTD Social Security    2106.30\n",
       "Ind Gross Pay           871.05\n",
       "Social Security          68.84\n",
       "Medicare                 12.63\n",
       "Federal Tax             181.90\n",
       "State Tax                27.87\n",
       "Net Pay                 655.34\n",
       "dtype: float64"
      ]
     },
     "execution_count": 27,
     "metadata": {},
     "output_type": "execute_result"
    }
   ],
   "source": [
    "# Measures the difference between the minimum and maximum value in a dataset.\n",
    "df2021.max() - df2021.min() # Range"
   ]
  },
  {
   "cell_type": "code",
   "execution_count": null,
   "id": "96abb382",
   "metadata": {},
   "outputs": [
    {
     "data": {
      "text/plain": [
       "Rate                       24.421548\n",
       "Hours                     157.092262\n",
       "YTD Social Security    633263.582857\n",
       "Ind Gross Pay          122999.973490\n",
       "Social Security           833.992862\n",
       "Medicare                   25.865914\n",
       "Federal Tax              5187.673257\n",
       "State Tax                 125.904462\n",
       "Net Pay                 69375.045524\n",
       "dtype: float64"
      ]
     },
     "execution_count": 28,
     "metadata": {},
     "output_type": "execute_result"
    }
   ],
   "source": [
    "# Variance is a measure of how data points differ from the mean.\n",
    "#  According to Layman, a variance is a measure of how far a set of data (numbers) are spread out from their mean (average) value.\n",
    "df2021.var() # Variance"
   ]
  },
  {
   "cell_type": "code",
   "execution_count": null,
   "id": "4d7c3d1a",
   "metadata": {},
   "outputs": [
    {
     "data": {
      "text/plain": [
       "Rate                     4.941816\n",
       "Hours                   12.533645\n",
       "YTD Social Security    795.778602\n",
       "Ind Gross Pay          350.713521\n",
       "Social Security         28.878935\n",
       "Medicare                 5.085854\n",
       "Federal Tax             72.025504\n",
       "State Tax               11.220716\n",
       "Net Pay                263.391430\n",
       "dtype: float64"
      ]
     },
     "execution_count": 29,
     "metadata": {},
     "output_type": "execute_result"
    }
   ],
   "source": [
    "# Measures the typical deviation of individual values from the mean value in a dataset.\n",
    "df2021.std() # Standard Deviation"
   ]
  },
  {
   "cell_type": "code",
   "execution_count": null,
   "id": "72fb7d68",
   "metadata": {},
   "outputs": [
    {
     "data": {
      "text/plain": [
       "Rate                     19.050\n",
       "Hours                    33.000\n",
       "YTD Social Security    4539.750\n",
       "Ind Gross Pay           773.510\n",
       "Social Security           6.850\n",
       "Medicare                 11.215\n",
       "Federal Tax             112.395\n",
       "State Tax                24.755\n",
       "Net Pay                 568.310\n",
       "Name: 0.25, dtype: float64"
      ]
     },
     "execution_count": 30,
     "metadata": {},
     "output_type": "execute_result"
    }
   ],
   "source": [
    "Q1 = df2021.quantile(0.25) # 25 percentile (Q1)\n",
    "Q1"
   ]
  },
  {
   "cell_type": "code",
   "execution_count": null,
   "id": "8b33578f",
   "metadata": {},
   "outputs": [
    {
     "data": {
      "text/plain": [
       "Rate                     21.50\n",
       "Hours                    38.75\n",
       "YTD Social Security    4974.00\n",
       "Ind Gross Pay          1077.30\n",
       "Social Security          20.39\n",
       "Medicare                 15.62\n",
       "Federal Tax             191.29\n",
       "State Tax                34.47\n",
       "Net Pay                 798.55\n",
       "Name: 0.5, dtype: float64"
      ]
     },
     "execution_count": 31,
     "metadata": {},
     "output_type": "execute_result"
    }
   ],
   "source": [
    "Q2 = df2021.quantile(0.5) # 50 percentile (Q2) or # Median\n",
    "Q2 "
   ]
  },
  {
   "cell_type": "code",
   "execution_count": null,
   "id": "3aa35b02",
   "metadata": {},
   "outputs": [
    {
     "data": {
      "text/plain": [
       "Rate                     27.925\n",
       "Hours                    43.375\n",
       "YTD Social Security    5547.050\n",
       "Ind Gross Pay          1104.435\n",
       "Social Security          48.195\n",
       "Medicare                 16.015\n",
       "Federal Tax             194.510\n",
       "State Tax                35.340\n",
       "Net Pay                 851.475\n",
       "Name: 0.75, dtype: float64"
      ]
     },
     "execution_count": 32,
     "metadata": {},
     "output_type": "execute_result"
    }
   ],
   "source": [
    "Q3 = df2021.quantile(0.75) # 75 percentile (Q3)\n",
    "Q3"
   ]
  },
  {
   "cell_type": "code",
   "execution_count": null,
   "id": "be3736c0",
   "metadata": {},
   "outputs": [
    {
     "data": {
      "text/plain": [
       "Rate                      8.875\n",
       "Hours                    10.375\n",
       "YTD Social Security    1007.300\n",
       "Ind Gross Pay           330.925\n",
       "Social Security          41.345\n",
       "Medicare                  4.800\n",
       "Federal Tax              82.115\n",
       "State Tax                10.585\n",
       "Net Pay                 283.165\n",
       "dtype: float64"
      ]
     },
     "execution_count": 33,
     "metadata": {},
     "output_type": "execute_result"
    }
   ],
   "source": [
    "# The difference between the first quartile (the 25th percentile) and the third quartile (the 75th percentile) of the dataset.\n",
    "IQR = Q3 - Q1 # Interquartile Range is not affected by extreme outliers\n",
    "IQR"
   ]
  },
  {
   "cell_type": "code",
   "execution_count": 26,
   "metadata": {},
   "outputs": [
    {
     "data": {
      "image/png": "[encoded data removed]",
      "text/plain": [
       "<Figure size 576x288 with 1 Axes>"
      ]
     },
     "metadata": {
      "needs_background": "light"
     },
     "output_type": "display_data"
    }
   ],
   "source": [
    "# Box-Whisker plot   #plt.bar(x,y)\n",
    "font = {'family' : 'normal', \n",
    "        'color' : 'k',\n",
    "        'weight' : 'bold',\n",
    "        'size'   : 22}       \n",
    "\n",
    "font2 = {'family' : 'normal', \n",
    "        'color' : 'k',\n",
    "        'weight' : 'bold',\n",
    "        'size'   : 30}      \n",
    "\n",
    "plt = df2021.boxplot(rot=70, color= 'c', figsize=(8,4))\n",
    "plt.set_title('Box-Whisker Plot', fontdict= font2)\n",
    "plt.set_xlabel('Info', fontdict= font)\n",
    "plt.set_ylabel('Quantity', fontdict= font)\n",
    "#pt.spines['left'].set_color('black')\n",
    "plt.grid(axis='x')\n"
   ]
  },
  {
   "cell_type": "code",
   "execution_count": null,
   "id": "ab44f2bd",
   "metadata": {},
   "outputs": [],
   "source": [
    "# df2021['Net Pay'] = df2021['Net Pay'].fillna(df2021['Net Pay'].mean())    ? \n",
    "#Q1 = df2021.quantile(.25) #see this Alex must look if we need this one\n",
    "#Q3 = df2021.quantile(.75)\n",
    "#IQR = Q3-Q1\n",
    "#df = df2021[~((df2021<(Q1-1.5*IQR)) | (df2021>(Q3+1.5*IQR))).any(axis=1)]"
   ]
  },
  {
   "cell_type": "code",
   "execution_count": null,
   "id": "942306fa",
   "metadata": {},
   "outputs": [],
   "source": []
  },
  {
   "cell_type": "code",
   "execution_count": null,
   "id": "caf299e0",
   "metadata": {},
   "outputs": [],
   "source": []
  },
  {
   "cell_type": "code",
   "execution_count": null,
   "id": "c91983f7",
   "metadata": {},
   "outputs": [],
   "source": []
  },
  {
   "cell_type": "code",
   "execution_count": null,
   "id": "97bf27a1",
   "metadata": {},
   "outputs": [],
   "source": []
  },
  {
   "cell_type": "code",
   "execution_count": null,
   "id": "e46eb338",
   "metadata": {},
   "outputs": [],
   "source": []
  },
  {
   "cell_type": "code",
   "execution_count": null,
   "id": "849eedc0",
   "metadata": {},
   "outputs": [],
   "source": []
  },
  {
   "cell_type": "code",
   "execution_count": null,
   "id": "bd73ca53",
   "metadata": {},
   "outputs": [],
   "source": []
  },
  {
   "cell_type": "code",
   "execution_count": null,
   "id": "6ae228a6",
   "metadata": {},
   "outputs": [],
   "source": []
  }
 ],
 "metadata": {
  "kernelspec": {
   "display_name": "Python 3 (ipykernel)",
   "language": "python",
   "name": "python3"
  },
  "language_info": {
   "codemirror_mode": {
    "name": "ipython",
    "version": 3
   },
   "file_extension": ".py",
   "mimetype": "text/x-python",
   "name": "python",
   "nbconvert_exporter": "python",
   "pygments_lexer": "ipython3",
   "version": "3.9.7"
  }
 },
 "nbformat": 4,
 "nbformat_minor": 5
}
