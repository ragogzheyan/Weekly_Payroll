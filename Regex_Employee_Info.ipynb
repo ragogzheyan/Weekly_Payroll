{
 "cells": [
  {
   "cell_type": "code",
   "execution_count": 1,
   "metadata": {},
   "outputs": [],
   "source": [
    "# Import regex\n",
    "import regex as re"
   ]
  },
  {
   "cell_type": "code",
   "execution_count": null,
   "metadata": {},
   "outputs": [],
   "source": [
    "# This CSV file reads, finds and stores regular expression (regex) \n",
    "# in the list for Employee ID, SSN, Emails and Phone Numbers in the list format.\n",
    "text = open('payroll.csv', 'r')\n",
    "text = ' '.join([i for i in text])\n",
    "# print(text)\n",
    "text = text.replace(',', \" \")\n",
    "text"
   ]
  },
  {
   "cell_type": "code",
   "execution_count": null,
   "metadata": {},
   "outputs": [],
   "source": [
    "#Employee ID\n",
    "Employee_ID = re.findall(r'\\s\\d\\d-\\d\\d\\d\\d', text)\n",
    "if Employee_ID :\n",
    "    print(Employee_ID)\n",
    "else:\n",
    "    print('did no not find Employee ID')\n"
   ]
  },
  {
   "cell_type": "code",
   "execution_count": null,
   "metadata": {},
   "outputs": [],
   "source": [
    "# SSN   \n",
    "SSN = re.findall(r'\\s\\d{3}-\\d{2}-\\d{4}', text)\n",
    "if SSN :\n",
    "    print(SSN)\n",
    "else:\n",
    "    print('did not find SSN') \n"
   ]
  },
  {
   "cell_type": "code",
   "execution_count": null,
   "metadata": {},
   "outputs": [],
   "source": [
    "# Emails\n",
    "Emails= re.findall(r'([a-zA-Z0-9.-]+@[a-zA-Z-]+\\.[a-z|A-Z]{2,})', text)\n",
    "if Emails :\n",
    "    print(Emails)\n",
    "else:\n",
    "    print('did not find Emails') \n",
    "    "
   ]
  },
  {
   "cell_type": "code",
   "execution_count": null,
   "metadata": {},
   "outputs": [],
   "source": [
    "# Phone Number\n",
    "Phone_Number = re.findall(r'\\s\\w{3}-\\w{3}-\\w{4}', text)\n",
    "if Phone_Number :\n",
    "    print(Phone_Number)\n",
    "else:\n",
    "    print('did not find Phone_number')\n"
   ]
  }
 ],
 "metadata": {
  "interpreter": {
   "hash": "fe5cbfa357e3206dd78f9b9ebacb209594a06e36c90c1b7e646cf69d0bcf9d19"
  },
  "kernelspec": {
   "display_name": "Python 3.10.0 ('py')",
   "language": "python",
   "name": "python3"
  },
  "language_info": {
   "codemirror_mode": {
    "name": "ipython",
    "version": 3
   },
   "file_extension": ".py",
   "mimetype": "text/x-python",
   "name": "python",
   "nbconvert_exporter": "python",
   "pygments_lexer": "ipython3",
   "version": "3.9.7"
  },
  "orig_nbformat": 4
 },
 "nbformat": 4,
 "nbformat_minor": 2
}
