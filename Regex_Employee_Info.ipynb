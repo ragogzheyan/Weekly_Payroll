{
 "cells": [
  {
   "cell_type": "code",
   "execution_count": 1,
   "metadata": {},
   "outputs": [],
   "source": [
    "# Import regex\n",
    "import regex as re"
   ]
  },
  {
   "cell_type": "code",
   "execution_count": 2,
   "metadata": {},
   "outputs": [
    {
     "data": {
      "text/plain": [
       "'Mark  Employee_ID  SSN  Emails  Phone_Numbers  Employee_First_Name  Employee_Last_Name  Rate  Hours  Dependents  YTD_Social_Security  Address  City  State  Zip_Code \\n 1.  11-1023  122-76-1971  Linus-Breeze@yahoo.com  880-764-6500  Linus  Breeze  27.50  40.25  4  4974.00  314 Central  Burton  MI  49611 \\n 2.  11-1278  122-56-7834  JuanS@aol.com  880-493-3643  Juan  Santiago  18.75  56.00  1  5540.20  21 West 8th  Glenview  MI  48121 \\n 3.  11-1456  122-83-9750  jamesw543@hotmail.com  880-205-7698  James  Webb  28.35  38.00  3  4254.00  281 Robin  Burton  MI  49611 \\n 4.  11-1634  122-76-5943  Kylie.Sabol5@my-work.net  880-731-8634  Kylie  Sabol  21.50  46.50  6  5553.90  462 River  Torino  MI  48268   \\n 5.  11-1861  122-25-4567  Ambera@live.com  880-492-9837  Amber  Ali  19.35  17.00  2  3447.60  867 Bay Ridge  Glenview  MI  48121 \\n 6.  11-2094  122-45-7254  keving-614@university.edu  880-930-7655  Kevin  Goldstein  17.05  28.00  5  NA  36 Bayview  Cavela  MI  47926 \\n 7.  11-2230  122-94-3159  Lee22Chang@gmail.com  880-728-6351  Lee  Chang  17.05  28.00  5  4825.50  283 Waterfront  Burton  MI  49611 \\n 8.  11-2484  122-65-5682  albertfritz@att.net  880-376-2489  Albert  Fritz  28.35  38.75  3  5553.90  92 East Bay  Woodview  MI  47212 \\n'"
      ]
     },
     "execution_count": 2,
     "metadata": {},
     "output_type": "execute_result"
    }
   ],
   "source": [
    "# This CSV file reads, finds and stores regular expression (regex) \n",
    "# in the list for Employee ID, SSN, Emails and Phone Numbers in the list format.\n",
    "text = open('payroll.csv', 'r')\n",
    "text = ' '.join([i for i in text])\n",
    "# print(text)\n",
    "text = text.replace(',', \" \")\n",
    "text"
   ]
  },
  {
   "cell_type": "code",
   "execution_count": 3,
   "metadata": {},
   "outputs": [
    {
     "name": "stdout",
     "output_type": "stream",
     "text": [
      "[' 11-1023', ' 11-1278', ' 11-1456', ' 11-1634', ' 11-1861', ' 11-2094', ' 11-2230', ' 11-2484']\n"
     ]
    }
   ],
   "source": [
    "#Employee ID\n",
    "Employee_ID = re.findall(r'\\s\\d\\d-\\d\\d\\d\\d', text)\n",
    "if Employee_ID :\n",
    "    print(Employee_ID)\n",
    "else:\n",
    "    print('did no not find Employee ID')\n"
   ]
  },
  {
   "cell_type": "code",
   "execution_count": 4,
   "metadata": {},
   "outputs": [
    {
     "name": "stdout",
     "output_type": "stream",
     "text": [
      "[' 122-76-1971', ' 122-56-7834', ' 122-83-9750', ' 122-76-5943', ' 122-25-4567', ' 122-45-7254', ' 122-94-3159', ' 122-65-5682']\n"
     ]
    }
   ],
   "source": [
    "# SSN   \n",
    "SSN = re.findall(r'\\s\\d{3}-\\d{2}-\\d{4}', text)\n",
    "if SSN :\n",
    "    print(SSN)\n",
    "else:\n",
    "    print('did not find SSN') \n"
   ]
  },
  {
   "cell_type": "code",
   "execution_count": 5,
   "metadata": {},
   "outputs": [
    {
     "name": "stdout",
     "output_type": "stream",
     "text": [
      "['Linus-Breeze@yahoo.com', 'JuanS@aol.com', 'jamesw543@hotmail.com', 'Kylie.Sabol5@my-work.net', 'Ambera@live.com', 'keving-614@university.edu', 'Lee22Chang@gmail.com', 'albertfritz@att.net']\n"
     ]
    }
   ],
   "source": [
    "# Emails\n",
    "Emails= re.findall(r'([a-zA-Z0-9.-]+@[a-zA-Z-]+\\.[a-z|A-Z]{2,})', text)\n",
    "if Emails :\n",
    "    print(Emails)\n",
    "else:\n",
    "    print('did not find Emails') \n",
    "    "
   ]
  },
  {
   "cell_type": "code",
   "execution_count": 6,
   "metadata": {},
   "outputs": [
    {
     "name": "stdout",
     "output_type": "stream",
     "text": [
      "[' 880-764-6500', ' 880-493-3643', ' 880-205-7698', ' 880-731-8634', ' 880-492-9837', ' 880-930-7655', ' 880-728-6351', ' 880-376-2489']\n"
     ]
    }
   ],
   "source": [
    "# Phone Number\n",
    "Phone_Number = re.findall(r'\\s\\w{3}-\\w{3}-\\w{4}', text)\n",
    "if Phone_Number :\n",
    "    print(Phone_Number)\n",
    "else:\n",
    "    print('did not find Phone_number')\n"
   ]
  },
  {
   "cell_type": "code",
   "execution_count": null,
   "metadata": {},
   "outputs": [],
   "source": []
  }
 ],
 "metadata": {
  "interpreter": {
   "hash": "fe5cbfa357e3206dd78f9b9ebacb209594a06e36c90c1b7e646cf69d0bcf9d19"
  },
  "kernelspec": {
   "display_name": "Python 3.10.0 ('py')",
   "language": "python",
   "name": "python3"
  },
  "language_info": {
   "codemirror_mode": {
    "name": "ipython",
    "version": 3
   },
   "file_extension": ".py",
   "mimetype": "text/x-python",
   "name": "python",
   "nbconvert_exporter": "python",
   "pygments_lexer": "ipython3",
   "version": "3.9.7"
  },
  "orig_nbformat": 4
 },
 "nbformat": 4,
 "nbformat_minor": 2
}
